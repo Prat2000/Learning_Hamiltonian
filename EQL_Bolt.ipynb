{
  "cells": [
    {
      "cell_type": "code",
      "execution_count": 57,
      "metadata": {
        "id": "j29h2u-mS2Ia"
      },
      "outputs": [],
      "source": [
        "import tensorflow as tf\n",
        "from tensorflow.keras import layers\n",
        "from tensorflow.keras.regularizers import L1\n",
        "from tensorflow.keras.callbacks import Callback\n",
        "import numpy as np\n",
        "import math\n",
        "import tensorflow.keras.backend as K\n",
        "import matplotlib.pyplot as plt"
      ]
    },
    {
      "cell_type": "code",
      "execution_count": 58,
      "metadata": {
        "id": "ykGGFFjvTLv4"
      },
      "outputs": [],
      "source": [
        "import sympy\n",
        "from itertools import accumulate\n",
        "import time\n",
        "import pickle as pkl"
      ]
    },
    {
      "cell_type": "code",
      "execution_count": 59,
      "metadata": {
        "colab": {
          "base_uri": "https://localhost:8080/",
          "height": 53
        },
        "id": "Nh9hI4iUPLNx",
        "outputId": "e7b644f9-dba8-4872-b507-ac5a293f1e40"
      },
      "outputs": [
        {
          "name": "stdout",
          "output_type": "stream",
          "text": [
            "Num GPUs Available:  0\n"
          ]
        },
        {
          "data": {
            "text/plain": [
              "''"
            ]
          },
          "execution_count": 59,
          "metadata": {},
          "output_type": "execute_result"
        }
      ],
      "source": [
        "print(\"Num GPUs Available: \", len(tf.config.list_physical_devices('GPU')))\n",
        "device_name = tf.test.gpu_device_name()\n",
        "device_name"
      ]
    },
    {
      "cell_type": "code",
      "execution_count": 60,
      "metadata": {},
      "outputs": [
        {
          "name": "stdout",
          "output_type": "stream",
          "text": [
            "(64, 1000, 5)\n"
          ]
        }
      ],
      "source": [
        "file = open('conditional_data.pkl','rb')\n",
        "cond_data = pkl.load(file)\n",
        "print(cond_data.shape)"
      ]
    },
    {
      "cell_type": "code",
      "execution_count": 61,
      "metadata": {
        "id": "q8cjMW0R4jU6"
      },
      "outputs": [],
      "source": [
        "global input_dim\n",
        "# global regularise_weights\n",
        "\n",
        "size = 1000\n",
        "batch_size = 200\n",
        "\n",
        "l0_reg = tf.Variable(initial_value=0, trainable=False, dtype=tf.float32)\n",
        "l1_reg = tf.Variable(initial_value=0, trainable=False, dtype=tf.float32)"
      ]
    },
    {
      "cell_type": "code",
      "execution_count": 62,
      "metadata": {
        "id": "EEqE5ct-4O8L"
      },
      "outputs": [],
      "source": [
        "def threshold_matrix(matrix, thresh):\n",
        "  with tf.device(device_name):\n",
        "    mask = tf.abs(matrix) > thresh\n",
        "    new_mat = tf.multiply(tf.cast(mask,dtype=tf.float32),matrix)\n",
        "    return new_mat"
      ]
    },
    {
      "cell_type": "code",
      "execution_count": 63,
      "metadata": {
        "id": "hoDebAhbEPHn"
      },
      "outputs": [],
      "source": [
        "@tf.function\n",
        "def l1_regularizer(weights):\n",
        "  with tf.device(device_name):\n",
        "    loss = l1_reg*tf.reduce_sum(tf.abs(weights))\n",
        "    return loss"
      ]
    },
    {
      "cell_type": "code",
      "execution_count": 64,
      "metadata": {
        "id": "VBmHedO0tPZE"
      },
      "outputs": [],
      "source": [
        "class dense_layer(layers.Layer):\n",
        "  def __init__(self, w0, d, v, begin=False, last=False):\n",
        "    super().__init__()\n",
        "    w_init = tf.random_uniform_initializer(minval = -w0, maxval = w0, seed = 3)\n",
        "    if last:\n",
        "      self.layer = layers.Dense(d, input_shape = (3*v,), kernel_initializer=w_init) # kernel_regularizer=l1_regularizer, bias_regularizer=l1_regularizer)\n",
        "    elif begin:\n",
        "      self.layer = layers.Dense(3*v, input_shape = (input_dim,), kernel_initializer=w_init) # kernel_regularizer=l1_regularizer, bias_regularizer=l1_regularizer)\n",
        "    else:\n",
        "      self.layer = layers.Dense(3*v, input_shape = (3*v,), kernel_initializer=w_init) # kernel_regularizer=l1_regularizer, bias_regularizer=l1_regularizer)\n",
        "\n",
        "  def call(self, input):\n",
        "    z = self.layer(input)\n",
        "    return z"
      ]
    },
    {
      "cell_type": "code",
      "execution_count": 65,
      "metadata": {},
      "outputs": [],
      "source": [
        "class dense_layer_no_id(layers.Layer):\n",
        "  def __init__(self, w0, d, v, begin=False, last=False):\n",
        "    super().__init__()\n",
        "    w_init = tf.random_uniform_initializer(minval = -w0, maxval = w0, seed = 3)\n",
        "    if last:\n",
        "      self.layer = layers.Dense(d, input_shape = (2*v,), kernel_initializer=w_init) # kernel_regularizer=l1_regularizer, bias_regularizer=l1_regularizer)\n",
        "    elif begin:\n",
        "      self.layer = layers.Dense(2*v, input_shape = (input_dim,), kernel_initializer=w_init) # kernel_regularizer=l1_regularizer, bias_regularizer=l1_regularizer)\n",
        "    else:\n",
        "      self.layer = layers.Dense(2*v, input_shape = (2*v,), kernel_initializer=w_init) # kernel_regularizer=l1_regularizer, bias_regularizer=l1_regularizer)\n",
        "\n",
        "  def call(self, input):\n",
        "    z = self.layer(input)\n",
        "    return z"
      ]
    },
    {
      "cell_type": "code",
      "execution_count": 67,
      "metadata": {
        "id": "44OU6L9j4Srm"
      },
      "outputs": [],
      "source": [
        "ops = {#'id' : tf.identity,\n",
        "       'sin' : tf.sin,\n",
        "       'cos' : tf.cos }\n",
        "\n",
        "# sympy_ops = [sympy.Id, sympy.sin, sympy.cos]\n",
        "sympy_ops = [sympy.sin, sympy.cos]"
      ]
    },
    {
      "cell_type": "code",
      "execution_count": 68,
      "metadata": {
        "id": "qmghgEIh3Egw"
      },
      "outputs": [],
      "source": [
        "def eql_func(var):\n",
        "  with tf.device(device_name):\n",
        "    z = var[0]\n",
        "    v = var[1]\n",
        "    units = tf.split(z,num_or_size_splits=[v,v,v],axis=1)\n",
        "    outputs = []\n",
        "    i = 0\n",
        "    for _,operator in ops.items():\n",
        "      inputs = tf.split(units[i],[v]*1,axis=1)\n",
        "      outputs.append(operator(*inputs))\n",
        "      i = i+1\n",
        "    y = tf.concat(outputs,axis=1)\n",
        "    return y"
      ]
    },
    {
      "cell_type": "code",
      "execution_count": 69,
      "metadata": {},
      "outputs": [],
      "source": [
        "def eql_func_no_id(var):\n",
        "  with tf.device(device_name):\n",
        "    z = var[0]\n",
        "    v = var[1]\n",
        "    units = tf.split(z,num_or_size_splits=[v,v],axis=1)\n",
        "    outputs = []\n",
        "    i = 0\n",
        "    for _,operator in ops.items():\n",
        "      inputs = tf.split(units[i],[v]*1,axis=1)\n",
        "      outputs.append(operator(*inputs))\n",
        "      i = i+1\n",
        "    y = tf.concat(outputs,axis=1)\n",
        "    return y"
      ]
    },
    {
      "cell_type": "code",
      "execution_count": 107,
      "metadata": {
        "colab": {
          "base_uri": "https://localhost:8080/",
          "height": 1000
        },
        "id": "R75ryomKMay1",
        "outputId": "081f621e-5141-40c9-96c7-3f15158eff9d"
      },
      "outputs": [
        {
          "name": "stdout",
          "output_type": "stream",
          "text": [
            "(800, 5) (800,)\n",
            "(200, 5) (200,)\n"
          ]
        }
      ],
      "source": [
        "# # Dataset\n",
        "# tf.random.set_seed(3)\n",
        "# x_data = tf.random.uniform(shape=[size,5],minval=-1,maxval=1,seed=10)\n",
        "\n",
        "# ## Hamiltonian eqn\n",
        "# y_data = tf.math.cos(x_data[:,0]-x_data[:,1]) + tf.math.cos(x_data[:,0]-x_data[:,2]) \\\n",
        "#           + tf.math.cos(x_data[:,0]-x_data[:,3]) + tf.math.cos(x_data[:,0]-x_data[:,4])\n",
        "\n",
        "# np.random.seed(3)\n",
        "# train_split = 0.8\n",
        "# idx = np.arange(size)\n",
        "# np.random.shuffle(idx)\n",
        "# train_idx = idx[:int(train_split*size)]\n",
        "# val_idx = idx[int(train_split*size):]\n",
        "\n",
        "# x_train = tf.gather(x_data, train_idx)\n",
        "# x_val = tf.gather(x_data, val_idx)\n",
        "# y_train = tf.gather(y_data, train_idx)\n",
        "# y_val = tf.gather(y_data, val_idx)\n",
        "\n",
        "# print(x_train.get_shape(), y_train.get_shape())\n",
        "# print(x_val.get_shape(), y_val.get_shape())"
      ]
    },
    {
      "cell_type": "code",
      "execution_count": 70,
      "metadata": {},
      "outputs": [
        {
          "name": "stdout",
          "output_type": "stream",
          "text": [
            "[0.0668435  0.2736027  0.26882994 0.3134225  0.32157192]\n",
            "[0.41999012 1.71909646 1.68910831 1.96929167 2.02049597]\n",
            "(800, 5) (200, 5)\n"
          ]
        }
      ],
      "source": [
        "# Conditional Dataset ##################################################\n",
        "pos = 10\n",
        "x_data = cond_data[pos]\n",
        "print(x_data[0])\n",
        "x_data = x_data*(2*np.pi) # scaled [0,1) to [0,2pi)\n",
        "print(x_data[0])\n",
        "\n",
        "np.random.seed(3)\n",
        "train_split = 0.8\n",
        "idx = np.arange(size)\n",
        "np.random.shuffle(idx)\n",
        "train_idx = idx[:int(train_split*size)]\n",
        "val_idx = idx[int(train_split*size):]\n",
        "\n",
        "x_train = tf.gather(x_data, train_idx)\n",
        "x_val = tf.gather(x_data, val_idx)\n",
        "\n",
        "print(x_train.get_shape(), x_val.get_shape())"
      ]
    },
    {
      "cell_type": "code",
      "execution_count": 107,
      "metadata": {},
      "outputs": [
        {
          "data": {
            "text/plain": [
              "TensorShape([200, 5])"
            ]
          },
          "execution_count": 107,
          "metadata": {},
          "output_type": "execute_result"
        }
      ],
      "source": [
        "x_val_new = tf.gather(x_data, val_idx)\n",
        "x_val_new.get_shape()"
      ]
    },
    {
      "cell_type": "code",
      "execution_count": 71,
      "metadata": {},
      "outputs": [
        {
          "name": "stdout",
          "output_type": "stream",
          "text": [
            "(800,) (200,)\n"
          ]
        }
      ],
      "source": [
        "x_train = x_train[:,0]\n",
        "x_val = x_val[:,0]\n",
        "print(x_train.get_shape(), x_val.get_shape())"
      ]
    },
    {
      "cell_type": "code",
      "execution_count": 72,
      "metadata": {
        "id": "88WuQ7ScMOd6"
      },
      "outputs": [],
      "source": [
        "train_data = tf.data.Dataset.from_tensor_slices(x_train).batch(batch_size)\n",
        "val_data = tf.data.Dataset.from_tensor_slices(x_val).batch(batch_size)"
      ]
    },
    {
      "cell_type": "code",
      "execution_count": 83,
      "metadata": {
        "colab": {
          "base_uri": "https://localhost:8080/"
        },
        "id": "dvT-viXNT-7z",
        "outputId": "bd53eb08-a009-4126-fbc3-e44d729947de"
      },
      "outputs": [
        {
          "name": "stdout",
          "output_type": "stream",
          "text": [
            "w0 : 0.5773502691896258\n",
            "reg_start : 0\n",
            "reg_end : 900\n"
          ]
        }
      ],
      "source": [
        "#input params\n",
        "reg_ph = [0.0,0.45]\n",
        "epoch_factor = 2000\n",
        "beta1 = 0.4\n",
        "l0_thresh = 0.05\n",
        "reg_scale = 1e-3\n",
        "wt_init_param = 1.0\n",
        "L = 2\n",
        "out_dim = 1\n",
        "\n",
        "w0 = wt_init_param/math.sqrt(1 + L)\n",
        "reg_start = math.floor((L-1)*epoch_factor*reg_ph[0])\n",
        "reg_end = math.floor((L-1)*epoch_factor*reg_ph[1])\n",
        "print(f'w0 : {w0}')\n",
        "print(f'reg_start : {reg_start}')\n",
        "print(f'reg_end : {reg_end}')"
      ]
    },
    {
      "cell_type": "code",
      "execution_count": 84,
      "metadata": {
        "id": "4vtLqU3O9H7e"
      },
      "outputs": [],
      "source": [
        "optimizer = tf.keras.optimizers.legacy.Adam(learning_rate=1e-4, beta_1=beta1, epsilon=1e-4)\n",
        "# loss_func = tf.keras.losses.MeanSquaredError()"
      ]
    },
    {
      "cell_type": "code",
      "execution_count": null,
      "metadata": {
        "id": "byS15Abv0Dyi"
      },
      "outputs": [],
      "source": [
        "#### Using Keras API ##############################\n",
        "\n",
        "class myCallback(Callback):\n",
        "  def __init__(self):\n",
        "    super().__init__()\n",
        "  def on_epoch_begin(self, epoch, logs={}):\n",
        "    if epoch>=reg_start and epoch<=reg_end:\n",
        "      l1_reg.assign(tf.cast(reg_scale, dtype=tf.float32))\n",
        "    if epoch>reg_end:\n",
        "      # regularise_weights = True\n",
        "      l1_reg.assign(tf.cast(0, dtype=tf.float32))\n",
        "      l0_reg.assign(tf.cast(l0_thresh, dtype=tf.float32))\n",
        "\n",
        "call_back = myCallback()\n",
        "\n",
        "input_dim = 5\n",
        "d = 1\n",
        "v = 10\n",
        "T = (L-1)*20\n",
        "\n",
        "begin = True\n",
        "input = tf.keras.Input(shape=(input_dim,), name= 'model_input')\n",
        "y = input\n",
        "for i in range(L-1):\n",
        "  z = dense_layer(w0, d, v, begin = begin)(y)\n",
        "  y = layers.Lambda(eql_func, name = f'func_layer_{i}')([z,v])\n",
        "  begin = False\n",
        "output = dense_layer(w0, d, v, last=True)(y)\n",
        "\n",
        "model = tf.keras.Model(inputs = input, outputs = output, name = 'eql_div')\n",
        "model.compile(optimizer, loss = loss_func) #, run_eagerly=True)\n",
        "\n",
        "model.summary()\n",
        "model.fit(x_train, y_train, epochs=T, batch_size=20, validation_split=0.2, callbacks=[call_back])"
      ]
    },
    {
      "cell_type": "code",
      "execution_count": null,
      "metadata": {
        "id": "UPg8IWuIJBCI"
      },
      "outputs": [],
      "source": [
        "saved_weight = False\n",
        "\n",
        "if saved_weight:\n",
        "    model.built = True\n",
        "    model.load_weights('eql_bolt_L3.h5')"
      ]
    },
    {
      "cell_type": "code",
      "execution_count": null,
      "metadata": {
        "id": "a8nRcoLAI4ff"
      },
      "outputs": [],
      "source": [
        "#save model\n",
        "model.save_weights('eql_bolt_L3_reg.h5')"
      ]
    },
    {
      "cell_type": "code",
      "execution_count": null,
      "metadata": {
        "id": "hlrqwMccI4cv"
      },
      "outputs": [],
      "source": []
    },
    {
      "cell_type": "code",
      "execution_count": null,
      "metadata": {
        "id": "6OMLwjbGs0h9"
      },
      "outputs": [],
      "source": []
    },
    {
      "cell_type": "code",
      "execution_count": 75,
      "metadata": {
        "id": "McoYwQwFs0fF"
      },
      "outputs": [],
      "source": [
        "#### Method 2 ############################################\n",
        "\n",
        "input_dim = 5\n",
        "d = 1\n",
        "v = 4\n",
        "T = (L-1)*1000\n",
        "temp = 0.5\n",
        "\n",
        "begin = True\n",
        "d_layers = []\n",
        "for i in range(L-1):\n",
        "  d_layers.append(dense_layer(w0, d, v, begin = begin))\n",
        "  begin = False\n",
        "d_layers.append(dense_layer(w0, d, v, last=True))\n",
        "\n",
        "input = tf.keras.Input(shape=(input_dim,), name= 'model_input')\n",
        "y = input\n",
        "for i in range(L-1):\n",
        "  z = d_layers[i](y)\n",
        "  y = layers.Lambda(eql_func, name = f'func_layer_{i}')([z,v])\n",
        "output = d_layers[-1](y)\n",
        "\n",
        "model = tf.keras.Model(inputs = input, outputs = output, name = 'eql_div')"
      ]
    },
    {
      "cell_type": "code",
      "execution_count": 92,
      "metadata": {},
      "outputs": [],
      "source": [
        "### Method 3 (No Identity Operation) ######################################\n",
        "input_dim = 1\n",
        "d = 1\n",
        "v = 4\n",
        "T = (L-1)*5000\n",
        "temp = 0.5\n",
        "\n",
        "begin = True\n",
        "d_layers = []\n",
        "for i in range(L-1):\n",
        "  d_layers.append(dense_layer_no_id(w0, d, v, begin = begin))\n",
        "  begin = False\n",
        "d_layers.append(dense_layer_no_id(w0, d, v, last=True))\n",
        "\n",
        "input = tf.keras.Input(shape=(input_dim,), name= 'model_input')\n",
        "y = input\n",
        "for i in range(L-1):\n",
        "  z = d_layers[i](y)\n",
        "  y = layers.Lambda(eql_func_no_id, name = f'func_layer_{i}')([z,v])\n",
        "output = d_layers[-1](y)\n",
        "\n",
        "model = tf.keras.Model(inputs = input, outputs = output, name = 'eql_div')"
      ]
    },
    {
      "cell_type": "code",
      "execution_count": 93,
      "metadata": {
        "id": "_4xnYUOiBtsQ"
      },
      "outputs": [],
      "source": [
        "def reassign_values(e):\n",
        "  if e<reg_start:\n",
        "    l1_reg.assign(tf.cast(0, dtype=tf.float32))\n",
        "    l0_reg.assign(tf.cast(0, dtype=tf.float32))\n",
        "  elif e>=reg_start and e<=reg_end:\n",
        "    l1_reg.assign(tf.cast(reg_scale, dtype=tf.float32))\n",
        "  elif e>reg_end:\n",
        "    l1_reg.assign(tf.cast(0, dtype=tf.float32))\n",
        "    l0_reg.assign(tf.cast(l0_thresh, dtype=tf.float32))"
      ]
    },
    {
      "cell_type": "code",
      "execution_count": 94,
      "metadata": {},
      "outputs": [],
      "source": [
        "def l1_loss(model):\n",
        "    loss = 0.\n",
        "    for wgt in model.trainable_weights:\n",
        "        loss += l1_reg*tf.reduce_sum(tf.abs(wgt)) \n",
        "    return loss"
      ]
    },
    {
      "cell_type": "code",
      "execution_count": 95,
      "metadata": {
        "id": "Hh4nySRNLRDk"
      },
      "outputs": [],
      "source": [
        "@tf.function\n",
        "def train_step(x):\n",
        "    with tf.GradientTape() as tape:\n",
        "        output = model(x, training=True)\n",
        "        # print(output)\n",
        "        loss_value = -tf.reduce_mean(output) + l1_loss(model)\n",
        "        #print(f\"l1_model: {l1_loss(model).shape}\")\n",
        "        # print(f\"loss_value:{loss_value}\")\n",
        "    grads = tape.gradient(loss_value, model.trainable_weights)\n",
        "    optimizer.apply_gradients(zip(grads, model.trainable_weights))\n",
        "    return loss_value\n",
        "\n",
        "@tf.function\n",
        "def val_step(x):\n",
        "    output = model(x, training=False)\n",
        "    loss_value = -tf.reduce_mean(output)\n",
        "    return loss_value"
      ]
    },
    {
      "cell_type": "code",
      "execution_count": 96,
      "metadata": {
        "colab": {
          "base_uri": "https://localhost:8080/",
          "height": 1000
        },
        "id": "ofAy_qbjs0ce",
        "outputId": "8f9783ba-be4c-46a5-c623-220bd30624b8"
      },
      "outputs": [
        {
          "name": "stdout",
          "output_type": "stream",
          "text": [
            "Epoch 0/5000      train_loss = 0.7129541039466858     val_loss = 0.5741627812385559\n",
            "Epoch 10/5000      train_loss = 0.5671870112419128     val_loss = 0.44751253724098206\n",
            "Epoch 20/5000      train_loss = 0.4942284822463989     val_loss = 0.3755955398082733\n",
            "Epoch 30/5000      train_loss = 0.43948325514793396     val_loss = 0.3212478756904602\n",
            "Epoch 40/5000      train_loss = 0.3941501975059509     val_loss = 0.2762227952480316\n",
            "Epoch 50/5000      train_loss = 0.35476264357566833     val_loss = 0.23715262115001678\n",
            "Epoch 60/5000      train_loss = 0.31953778862953186     val_loss = 0.20227622985839844\n",
            "Epoch 70/5000      train_loss = 0.28741854429244995     val_loss = 0.17053991556167603\n",
            "Epoch 80/5000      train_loss = 0.25771811604499817     val_loss = 0.14125512540340424\n",
            "Epoch 90/5000      train_loss = 0.2299618124961853     val_loss = 0.11394447088241577\n",
            "Epoch 100/5000      train_loss = 0.2038062959909439     val_loss = 0.08826160430908203\n",
            "Epoch 110/5000      train_loss = 0.17899425327777863     val_loss = 0.06394650042057037\n",
            "Epoch 120/5000      train_loss = 0.1553276926279068     val_loss = 0.04079867899417877\n",
            "Epoch 130/5000      train_loss = 0.13264985382556915     val_loss = 0.018659286201000214\n",
            "Epoch 140/5000      train_loss = 0.11083508282899857     val_loss = -0.0025995015166699886\n",
            "Epoch 150/5000      train_loss = 0.08978015929460526     val_loss = -0.02308250032365322\n",
            "Epoch 160/5000      train_loss = 0.06939932703971863     val_loss = -0.04287705570459366\n",
            "Epoch 170/5000      train_loss = 0.04961998388171196     val_loss = -0.06205720454454422\n",
            "Epoch 180/5000      train_loss = 0.030380330979824066     val_loss = -0.08068587630987167\n",
            "Epoch 190/5000      train_loss = 0.011627056635916233     val_loss = -0.09881742298603058\n",
            "Epoch 200/5000      train_loss = -0.006686076521873474     val_loss = -0.11649927496910095\n",
            "Epoch 210/5000      train_loss = -0.02459992654621601     val_loss = -0.1337728649377823\n",
            "Epoch 220/5000      train_loss = -0.04215047135949135     val_loss = -0.15067504346370697\n",
            "Epoch 230/5000      train_loss = -0.0593695268034935     val_loss = -0.16723838448524475\n",
            "Epoch 240/5000      train_loss = -0.07628576457500458     val_loss = -0.18349212408065796\n",
            "Epoch 250/5000      train_loss = -0.09292472898960114     val_loss = -0.1994624137878418\n",
            "Epoch 260/5000      train_loss = -0.10930947959423065     val_loss = -0.21517284214496613\n",
            "Epoch 270/5000      train_loss = -0.1254609227180481     val_loss = -0.23064471781253815\n",
            "Epoch 280/5000      train_loss = -0.1413978636264801     val_loss = -0.2458975613117218\n",
            "Epoch 290/5000      train_loss = -0.15713746845722198     val_loss = -0.2609485983848572\n",
            "Epoch 300/5000      train_loss = -0.17269518971443176     val_loss = -0.2758139669895172\n",
            "Epoch 310/5000      train_loss = -0.18808548152446747     val_loss = -0.29050832986831665\n",
            "Epoch 320/5000      train_loss = -0.20332121849060059     val_loss = -0.3050450086593628\n",
            "Epoch 330/5000      train_loss = -0.2460835874080658     val_loss = -0.3443167209625244\n",
            "Epoch 340/5000      train_loss = -0.2583353519439697     val_loss = -0.35613083839416504\n",
            "Epoch 350/5000      train_loss = -0.27048784494400024     val_loss = -0.36784303188323975\n",
            "Epoch 360/5000      train_loss = -0.2825482487678528     val_loss = -0.3794606029987335\n",
            "Epoch 370/5000      train_loss = -0.2945229709148407     val_loss = -0.3909904360771179\n",
            "Epoch 380/5000      train_loss = -0.3064180612564087     val_loss = -0.40243858098983765\n",
            "Epoch 390/5000      train_loss = -0.31823864579200745     val_loss = -0.4138106405735016\n",
            "Epoch 400/5000      train_loss = -0.32999005913734436     val_loss = -0.42511191964149475\n",
            "Epoch 410/5000      train_loss = -0.3416767716407776     val_loss = -0.4363471269607544\n",
            "Epoch 420/5000      train_loss = -0.353302925825119     val_loss = -0.4475206732749939\n",
            "Epoch 430/5000      train_loss = -0.3648722171783447     val_loss = -0.4586363136768341\n",
            "Epoch 440/5000      train_loss = -0.3763882517814636     val_loss = -0.46969786286354065\n",
            "Epoch 450/5000      train_loss = -0.38785406947135925     val_loss = -0.480708509683609\n",
            "Epoch 460/5000      train_loss = -0.39927276968955994     val_loss = -0.49167144298553467\n",
            "Epoch 470/5000      train_loss = -0.410646915435791     val_loss = -0.5025893449783325\n",
            "Epoch 480/5000      train_loss = -0.4219791293144226     val_loss = -0.5134650468826294\n",
            "Epoch 490/5000      train_loss = -0.43327170610427856     val_loss = -0.5243009328842163\n",
            "Epoch 500/5000      train_loss = -0.47287917137145996     val_loss = -0.5603016018867493\n",
            "Epoch 510/5000      train_loss = -0.4816383719444275     val_loss = -0.5688769817352295\n",
            "Epoch 520/5000      train_loss = -0.4903706908226013     val_loss = -0.5774247050285339\n",
            "Epoch 530/5000      train_loss = -0.4990772604942322     val_loss = -0.5859462022781372\n",
            "Epoch 540/5000      train_loss = -0.5077595710754395     val_loss = -0.5944430828094482\n",
            "Epoch 550/5000      train_loss = -0.5164187550544739     val_loss = -0.6029164791107178\n",
            "Epoch 560/5000      train_loss = -0.525056004524231     val_loss = -0.6113676428794861\n",
            "Epoch 570/5000      train_loss = -0.5336722135543823     val_loss = -0.6197977066040039\n",
            "Epoch 580/5000      train_loss = -0.5422685146331787     val_loss = -0.6282076835632324\n",
            "Epoch 590/5000      train_loss = -0.5508458018302917     val_loss = -0.6365984678268433\n",
            "Epoch 600/5000      train_loss = -0.5594048500061035     val_loss = -0.6449710726737976\n",
            "Epoch 610/5000      train_loss = -0.5679466724395752     val_loss = -0.6533265709877014\n",
            "Epoch 620/5000      train_loss = -0.5764719843864441     val_loss = -0.6616654992103577\n",
            "Epoch 630/5000      train_loss = -0.5849815011024475     val_loss = -0.6699886918067932\n",
            "Epoch 640/5000      train_loss = -0.5934758186340332     val_loss = -0.6782969832420349\n",
            "Epoch 650/5000      train_loss = -0.6019559502601624     val_loss = -0.6865910291671753\n",
            "Epoch 660/5000      train_loss = -0.6104221343994141     val_loss = -0.6948715448379517\n",
            "Epoch 670/5000      train_loss = -0.645843505859375     val_loss = -0.7271060347557068\n",
            "Epoch 680/5000      train_loss = -0.6518968343734741     val_loss = -0.7332394123077393\n",
            "Epoch 690/5000      train_loss = -0.6579414010047913     val_loss = -0.7393639087677002\n",
            "Epoch 700/5000      train_loss = -0.6639775037765503     val_loss = -0.7454798817634583\n",
            "Epoch 710/5000      train_loss = -0.6700055599212646     val_loss = -0.7515876889228821\n",
            "Epoch 720/5000      train_loss = -0.6760259866714478     val_loss = -0.7576876878738403\n",
            "Epoch 730/5000      train_loss = -0.6820390820503235     val_loss = -0.7637802362442017\n",
            "Epoch 740/5000      train_loss = -0.6880452036857605     val_loss = -0.7698656320571899\n",
            "Epoch 750/5000      train_loss = -0.6940444707870483     val_loss = -0.7759442329406738\n",
            "Epoch 760/5000      train_loss = -0.7000374794006348     val_loss = -0.7820162773132324\n",
            "Epoch 770/5000      train_loss = -0.7060242295265198     val_loss = -0.7880821228027344\n",
            "Epoch 780/5000      train_loss = -0.7120051383972168     val_loss = -0.7941420078277588\n",
            "Epoch 790/5000      train_loss = -0.7179803848266602     val_loss = -0.8001962304115295\n",
            "Epoch 800/5000      train_loss = -0.7239502668380737     val_loss = -0.806244969367981\n",
            "Epoch 810/5000      train_loss = -0.7299149036407471     val_loss = -0.8122883439064026\n",
            "Epoch 820/5000      train_loss = -0.7358745336532593     val_loss = -0.8183268904685974\n",
            "Epoch 830/5000      train_loss = -0.7418294548988342     val_loss = -0.8243604898452759\n",
            "Epoch 840/5000      train_loss = -0.7477799654006958     val_loss = -0.8303894996643066\n",
            "Epoch 850/5000      train_loss = -0.7537258863449097     val_loss = -0.8364141583442688\n",
            "Epoch 860/5000      train_loss = -0.7596677541732788     val_loss = -0.8424344062805176\n",
            "Epoch 870/5000      train_loss = -0.7656055688858032     val_loss = -0.848450779914856\n",
            "Epoch 880/5000      train_loss = -0.798196017742157     val_loss = -0.8781524896621704\n",
            "Epoch 890/5000      train_loss = -0.8017858266830444     val_loss = -0.8820803761482239\n",
            "Epoch 900/5000      train_loss = -0.8053733110427856     val_loss = -0.8860057592391968\n",
            "Epoch 910/5000      train_loss = -0.8146382570266724     val_loss = -0.8899284601211548\n",
            "Epoch 920/5000      train_loss = -0.8182435035705566     val_loss = -0.8938568234443665\n",
            "Epoch 930/5000      train_loss = -0.8218463659286499     val_loss = -0.8977855443954468\n",
            "Epoch 940/5000      train_loss = -0.8254469037055969     val_loss = -0.9017127156257629\n",
            "Epoch 950/5000      train_loss = -0.8290451169013977     val_loss = -0.905637800693512\n",
            "Epoch 960/5000      train_loss = -0.8326412439346313     val_loss = -0.9095609188079834\n",
            "Epoch 970/5000      train_loss = -0.8362352848052979     val_loss = -0.9134818911552429\n",
            "Epoch 980/5000      train_loss = -0.8398274183273315     val_loss = -0.9174008369445801\n",
            "Epoch 990/5000      train_loss = -0.8434175848960876     val_loss = -0.9213178157806396\n",
            "Epoch 1000/5000      train_loss = -0.84700608253479     val_loss = -0.9252328276634216\n",
            "Epoch 1010/5000      train_loss = -0.8505927920341492     val_loss = -0.9291461110115051\n",
            "Epoch 1020/5000      train_loss = -0.8541777729988098     val_loss = -0.9330575466156006\n",
            "Epoch 1030/5000      train_loss = -0.8577611446380615     val_loss = -0.936967134475708\n",
            "Epoch 1040/5000      train_loss = -0.8613430857658386     val_loss = -0.9408751726150513\n",
            "Epoch 1050/5000      train_loss = -0.8649234771728516     val_loss = -0.9447817206382751\n",
            "Epoch 1060/5000      train_loss = -0.8685023784637451     val_loss = -0.948686420917511\n",
            "Epoch 1070/5000      train_loss = -0.8720800876617432     val_loss = -0.9525900483131409\n",
            "Epoch 1080/5000      train_loss = -0.8756563663482666     val_loss = -0.956492006778717\n",
            "Epoch 1090/5000      train_loss = -0.8792313933372498     val_loss = -0.9603927135467529\n",
            "Epoch 1100/5000      train_loss = -0.8828054070472717     val_loss = -0.9642922878265381\n",
            "Epoch 1110/5000      train_loss = -0.8863781690597534     val_loss = -0.9681903719902039\n",
            "Epoch 1120/5000      train_loss = -0.8899496793746948     val_loss = -0.9720873236656189\n",
            "Epoch 1130/5000      train_loss = -0.8935202956199646     val_loss = -0.9759831428527832\n",
            "Epoch 1140/5000      train_loss = -0.8970898985862732     val_loss = -0.9798779487609863\n",
            "Epoch 1150/5000      train_loss = -0.9006585478782654     val_loss = -0.9837716817855835\n",
            "Epoch 1160/5000      train_loss = -0.9042260646820068     val_loss = -0.9876642823219299\n",
            "Epoch 1170/5000      train_loss = -0.9077929258346558     val_loss = -0.9915561676025391\n",
            "Epoch 1180/5000      train_loss = -0.9113589525222778     val_loss = -0.9954469203948975\n",
            "Epoch 1190/5000      train_loss = -0.914923906326294     val_loss = -0.999336838722229\n",
            "Epoch 1200/5000      train_loss = -0.9184880256652832     val_loss = -1.0032258033752441\n",
            "Epoch 1210/5000      train_loss = -0.9220513105392456     val_loss = -1.0071136951446533\n",
            "Epoch 1220/5000      train_loss = -0.9256141185760498     val_loss = -1.0110011100769043\n",
            "Epoch 1230/5000      train_loss = -0.9291764497756958     val_loss = -1.0148881673812866\n",
            "Epoch 1240/5000      train_loss = -0.9327378273010254     val_loss = -1.0187740325927734\n",
            "Epoch 1250/5000      train_loss = -0.9362986087799072     val_loss = -1.0226593017578125\n",
            "Epoch 1260/5000      train_loss = -0.939858615398407     val_loss = -1.0265437364578247\n",
            "Epoch 1270/5000      train_loss = -0.943418025970459     val_loss = -1.0304275751113892\n",
            "Epoch 1280/5000      train_loss = -0.9469768404960632     val_loss = -1.0343108177185059\n",
            "Epoch 1290/5000      train_loss = -0.9505355358123779     val_loss = -1.0381938219070435\n"
          ]
        },
        {
          "name": "stderr",
          "output_type": "stream",
          "text": [
            "2023-07-10 16:21:53.538986: W tensorflow/core/data/root_dataset.cc:273] Optimization loop failed: CANCELLED: Operation was cancelled\n"
          ]
        },
        {
          "name": "stdout",
          "output_type": "stream",
          "text": [
            "Epoch 1300/5000      train_loss = -0.9540930986404419     val_loss = -1.0420756340026855\n",
            "Epoch 1310/5000      train_loss = -0.9576504826545715     val_loss = -1.0459572076797485\n",
            "Epoch 1320/5000      train_loss = -0.9612074494361877     val_loss = -1.0498385429382324\n",
            "Epoch 1330/5000      train_loss = -0.9647645950317383     val_loss = -1.0537197589874268\n",
            "Epoch 1340/5000      train_loss = -0.968320369720459     val_loss = -1.057599663734436\n",
            "Epoch 1350/5000      train_loss = -0.9718757271766663     val_loss = -1.0614789724349976\n",
            "Epoch 1360/5000      train_loss = -0.9754307270050049     val_loss = -1.0653579235076904\n",
            "Epoch 1370/5000      train_loss = -0.9789853096008301     val_loss = -1.0692366361618042\n",
            "Epoch 1380/5000      train_loss = -0.9825395345687866     val_loss = -1.0731148719787598\n",
            "Epoch 1390/5000      train_loss = -0.9860934615135193     val_loss = -1.0769927501678467\n",
            "Epoch 1400/5000      train_loss = -0.9896466732025146     val_loss = -1.0808699131011963\n",
            "Epoch 1410/5000      train_loss = -0.9931995868682861     val_loss = -1.0847465991973877\n",
            "Epoch 1420/5000      train_loss = -0.9967523813247681     val_loss = -1.0886234045028687\n",
            "Epoch 1430/5000      train_loss = -1.00030517578125     val_loss = -1.0925002098083496\n",
            "Epoch 1440/5000      train_loss = -1.0038578510284424     val_loss = -1.0963765382766724\n",
            "Epoch 1450/5000      train_loss = -1.0074102878570557     val_loss = -1.1002528667449951\n",
            "Epoch 1460/5000      train_loss = -1.010962724685669     val_loss = -1.1041291952133179\n",
            "Epoch 1470/5000      train_loss = -1.0145143270492554     val_loss = -1.1080044507980347\n",
            "Epoch 1480/5000      train_loss = -1.0180654525756836     val_loss = -1.1118792295455933\n",
            "Epoch 1490/5000      train_loss = -1.0216165781021118     val_loss = -1.1157541275024414\n",
            "Epoch 1500/5000      train_loss = -1.02516770362854     val_loss = -1.1196290254592896\n",
            "Epoch 1510/5000      train_loss = -1.0287177562713623     val_loss = -1.1235028505325317\n",
            "Epoch 1520/5000      train_loss = -1.0322675704956055     val_loss = -1.1273760795593262\n",
            "Epoch 1530/5000      train_loss = -1.0358171463012695     val_loss = -1.1312494277954102\n",
            "Epoch 1540/5000      train_loss = -1.0393669605255127     val_loss = -1.1351226568222046\n",
            "Epoch 1550/5000      train_loss = -1.0429162979125977     val_loss = -1.1389957666397095\n",
            "Epoch 1560/5000      train_loss = -1.0464656352996826     val_loss = -1.1428687572479248\n",
            "Epoch 1570/5000      train_loss = -1.050014853477478     val_loss = -1.146741509437561\n",
            "Epoch 1580/5000      train_loss = -1.0535634756088257     val_loss = -1.1506136655807495\n",
            "Epoch 1590/5000      train_loss = -1.0571120977401733     val_loss = -1.154485821723938\n",
            "Epoch 1600/5000      train_loss = -1.0606608390808105     val_loss = -1.158358097076416\n",
            "Epoch 1610/5000      train_loss = -1.064209222793579     val_loss = -1.1622300148010254\n",
            "Epoch 1620/5000      train_loss = -1.0677576065063477     val_loss = -1.1661019325256348\n",
            "Epoch 1630/5000      train_loss = -1.0713058710098267     val_loss = -1.1699737310409546\n",
            "Epoch 1640/5000      train_loss = -1.0748542547225952     val_loss = -1.173845648765564\n",
            "Epoch 1650/5000      train_loss = -1.0784025192260742     val_loss = -1.1777174472808838\n",
            "Epoch 1660/5000      train_loss = -1.0819509029388428     val_loss = -1.1815893650054932\n",
            "Epoch 1670/5000      train_loss = -1.0854990482330322     val_loss = -1.185461163520813\n",
            "Epoch 1680/5000      train_loss = -1.0890474319458008     val_loss = -1.1893329620361328\n",
            "Epoch 1690/5000      train_loss = -1.0925958156585693     val_loss = -1.1932047605514526\n",
            "Epoch 1700/5000      train_loss = -1.0961440801620483     val_loss = -1.197076678276062\n",
            "Epoch 1710/5000      train_loss = -1.0996923446655273     val_loss = -1.2009484767913818\n",
            "Epoch 1720/5000      train_loss = -1.1032406091690063     val_loss = -1.2048202753067017\n",
            "Epoch 1730/5000      train_loss = -1.106788992881775     val_loss = -1.208692193031311\n",
            "Epoch 1740/5000      train_loss = -1.1103373765945435     val_loss = -1.2125641107559204\n",
            "Epoch 1750/5000      train_loss = -1.1138854026794434     val_loss = -1.2164356708526611\n",
            "Epoch 1760/5000      train_loss = -1.1174323558807373     val_loss = -1.2203059196472168\n",
            "Epoch 1770/5000      train_loss = -1.1209791898727417     val_loss = -1.224176287651062\n",
            "Epoch 1780/5000      train_loss = -1.1245262622833252     val_loss = -1.2280466556549072\n",
            "Epoch 1790/5000      train_loss = -1.1280730962753296     val_loss = -1.231916904449463\n",
            "Epoch 1800/5000      train_loss = -1.1316193342208862     val_loss = -1.2357865571975708\n",
            "Epoch 1810/5000      train_loss = -1.1351654529571533     val_loss = -1.2396560907363892\n",
            "Epoch 1820/5000      train_loss = -1.13871169090271     val_loss = -1.243525743484497\n",
            "Epoch 1830/5000      train_loss = -1.1422579288482666     val_loss = -1.2473952770233154\n",
            "Epoch 1840/5000      train_loss = -1.1458041667938232     val_loss = -1.2512648105621338\n",
            "Epoch 1850/5000      train_loss = -1.1493504047393799     val_loss = -1.2551343441009521\n",
            "Epoch 1860/5000      train_loss = -1.1528966426849365     val_loss = -1.25900399684906\n",
            "Epoch 1870/5000      train_loss = -1.1564427614212036     val_loss = -1.262873649597168\n",
            "Epoch 1880/5000      train_loss = -1.1599891185760498     val_loss = -1.2667431831359863\n",
            "Epoch 1890/5000      train_loss = -1.163535237312317     val_loss = -1.2706125974655151\n",
            "Epoch 1900/5000      train_loss = -1.1670807600021362     val_loss = -1.2744815349578857\n",
            "Epoch 1910/5000      train_loss = -1.1706262826919556     val_loss = -1.2783503532409668\n",
            "Epoch 1920/5000      train_loss = -1.1741716861724854     val_loss = -1.2822190523147583\n",
            "Epoch 1930/5000      train_loss = -1.1777173280715942     val_loss = -1.2860881090164185\n",
            "Epoch 1940/5000      train_loss = -1.1812626123428345     val_loss = -1.2899566888809204\n",
            "Epoch 1950/5000      train_loss = -1.1848077774047852     val_loss = -1.2938249111175537\n",
            "Epoch 1960/5000      train_loss = -1.1883529424667358     val_loss = -1.2976933717727661\n",
            "Epoch 1970/5000      train_loss = -1.1918981075286865     val_loss = -1.3015618324279785\n",
            "Epoch 1980/5000      train_loss = -1.1954432725906372     val_loss = -1.3054304122924805\n",
            "Epoch 1990/5000      train_loss = -1.1989883184432983     val_loss = -1.3092987537384033\n",
            "Epoch 2000/5000      train_loss = -1.2025336027145386     val_loss = -1.3131672143936157\n",
            "Epoch 2010/5000      train_loss = -1.2060787677764893     val_loss = -1.3170356750488281\n",
            "Epoch 2020/5000      train_loss = -1.20962393283844     val_loss = -1.3209038972854614\n",
            "Epoch 2030/5000      train_loss = -1.2131690979003906     val_loss = -1.3247724771499634\n",
            "Epoch 2040/5000      train_loss = -1.2167141437530518     val_loss = -1.3286410570144653\n",
            "Epoch 2050/5000      train_loss = -1.220259428024292     val_loss = -1.3325096368789673\n",
            "Epoch 2060/5000      train_loss = -1.2238045930862427     val_loss = -1.3363778591156006\n",
            "Epoch 2070/5000      train_loss = -1.2273497581481934     val_loss = -1.340246319770813\n",
            "Epoch 2080/5000      train_loss = -1.230894923210144     val_loss = -1.3441147804260254\n",
            "Epoch 2090/5000      train_loss = -1.2344400882720947     val_loss = -1.3479833602905273\n",
            "Epoch 2100/5000      train_loss = -1.2379852533340454     val_loss = -1.3518518209457397\n",
            "Epoch 2110/5000      train_loss = -1.2415305376052856     val_loss = -1.3557201623916626\n",
            "Epoch 2120/5000      train_loss = -1.2450757026672363     val_loss = -1.359588623046875\n",
            "Epoch 2130/5000      train_loss = -1.2486207485198975     val_loss = -1.363457202911377\n",
            "Epoch 2140/5000      train_loss = -1.2521660327911377     val_loss = -1.367325782775879\n",
            "Epoch 2150/5000      train_loss = -1.2557110786437988     val_loss = -1.3711941242218018\n",
            "Epoch 2160/5000      train_loss = -1.259256362915039     val_loss = -1.3750625848770142\n",
            "Epoch 2170/5000      train_loss = -1.2628014087677002     val_loss = -1.3789311647415161\n",
            "Epoch 2180/5000      train_loss = -1.2663466930389404     val_loss = -1.382799506187439\n",
            "Epoch 2190/5000      train_loss = -1.2698919773101807     val_loss = -1.386668086051941\n",
            "Epoch 2200/5000      train_loss = -1.2734370231628418     val_loss = -1.3905365467071533\n",
            "Epoch 2210/5000      train_loss = -1.2769821882247925     val_loss = -1.3944048881530762\n",
            "Epoch 2220/5000      train_loss = -1.2805273532867432     val_loss = -1.3982734680175781\n",
            "Epoch 2230/5000      train_loss = -1.2840726375579834     val_loss = -1.4021419286727905\n",
            "Epoch 2240/5000      train_loss = -1.2876176834106445     val_loss = -1.406010389328003\n",
            "Epoch 2250/5000      train_loss = -1.2911629676818848     val_loss = -1.4098789691925049\n",
            "Epoch 2260/5000      train_loss = -1.2947081327438354     val_loss = -1.4137473106384277\n",
            "Epoch 2270/5000      train_loss = -1.2982532978057861     val_loss = -1.4176160097122192\n",
            "Epoch 2280/5000      train_loss = -1.3017985820770264     val_loss = -1.4214844703674316\n",
            "Epoch 2290/5000      train_loss = -1.3053436279296875     val_loss = -1.425352931022644\n",
            "Epoch 2300/5000      train_loss = -1.3088887929916382     val_loss = -1.429221510887146\n",
            "Epoch 2310/5000      train_loss = -1.3124339580535889     val_loss = -1.4330898523330688\n",
            "Epoch 2320/5000      train_loss = -1.315979242324829     val_loss = -1.4369584321975708\n",
            "Epoch 2330/5000      train_loss = -1.3195245265960693     val_loss = -1.4408270120620728\n",
            "Epoch 2340/5000      train_loss = -1.3230695724487305     val_loss = -1.4446954727172852\n",
            "Epoch 2350/5000      train_loss = -1.3266148567199707     val_loss = -1.448564052581787\n",
            "Epoch 2360/5000      train_loss = -1.3301599025726318     val_loss = -1.4524325132369995\n",
            "Epoch 2370/5000      train_loss = -1.333705186843872     val_loss = -1.456300973892212\n",
            "Epoch 2380/5000      train_loss = -1.3372503519058228     val_loss = -1.4601696729660034\n",
            "Epoch 2390/5000      train_loss = -1.3407955169677734     val_loss = -1.4640381336212158\n",
            "Epoch 2400/5000      train_loss = -1.3443408012390137     val_loss = -1.4679064750671387\n",
            "Epoch 2410/5000      train_loss = -1.3478859663009644     val_loss = -1.4717751741409302\n",
            "Epoch 2420/5000      train_loss = -1.3514312505722046     val_loss = -1.4756438732147217\n",
            "Epoch 2430/5000      train_loss = -1.3549764156341553     val_loss = -1.479512333869934\n",
            "Epoch 2440/5000      train_loss = -1.3585214614868164     val_loss = -1.483380913734436\n",
            "Epoch 2450/5000      train_loss = -1.3620668649673462     val_loss = -1.487249493598938\n",
            "Epoch 2460/5000      train_loss = -1.3656119108200073     val_loss = -1.4911179542541504\n",
            "Epoch 2470/5000      train_loss = -1.369157314300537     val_loss = -1.4949865341186523\n",
            "Epoch 2480/5000      train_loss = -1.3727023601531982     val_loss = -1.4988551139831543\n",
            "Epoch 2490/5000      train_loss = -1.3762476444244385     val_loss = -1.5027235746383667\n",
            "Epoch 2500/5000      train_loss = -1.3797928094863892     val_loss = -1.5065921545028687\n",
            "Epoch 2510/5000      train_loss = -1.3833379745483398     val_loss = -1.5104608535766602\n",
            "Epoch 2520/5000      train_loss = -1.38688325881958     val_loss = -1.514329433441162\n",
            "Epoch 2530/5000      train_loss = -1.3904284238815308     val_loss = -1.5181978940963745\n",
            "Epoch 2540/5000      train_loss = -1.393973708152771     val_loss = -1.522066593170166\n",
            "Epoch 2550/5000      train_loss = -1.3975188732147217     val_loss = -1.5259350538253784\n",
            "Epoch 2560/5000      train_loss = -1.401064157485962     val_loss = -1.52980375289917\n",
            "Epoch 2570/5000      train_loss = -1.4046093225479126     val_loss = -1.5336723327636719\n",
            "Epoch 2580/5000      train_loss = -1.4081544876098633     val_loss = -1.5375409126281738\n",
            "Epoch 2590/5000      train_loss = -1.4116997718811035     val_loss = -1.5414096117019653\n",
            "Epoch 2600/5000      train_loss = -1.4152450561523438     val_loss = -1.5452783107757568\n",
            "Epoch 2610/5000      train_loss = -1.4187902212142944     val_loss = -1.5491467714309692\n",
            "Epoch 2620/5000      train_loss = -1.4223353862762451     val_loss = -1.5530154705047607\n",
            "Epoch 2630/5000      train_loss = -1.4258806705474854     val_loss = -1.5568841695785522\n",
            "Epoch 2640/5000      train_loss = -1.4294259548187256     val_loss = -1.5607528686523438\n",
            "Epoch 2650/5000      train_loss = -1.4329711198806763     val_loss = -1.5646214485168457\n",
            "Epoch 2660/5000      train_loss = -1.436516523361206     val_loss = -1.5684901475906372\n",
            "Epoch 2670/5000      train_loss = -1.4400616884231567     val_loss = -1.5723588466644287\n",
            "Epoch 2680/5000      train_loss = -1.443606972694397     val_loss = -1.5762274265289307\n",
            "Epoch 2690/5000      train_loss = -1.4471522569656372     val_loss = -1.5800961256027222\n",
            "Epoch 2700/5000      train_loss = -1.450697422027588     val_loss = -1.5839648246765137\n",
            "Epoch 2710/5000      train_loss = -1.4542427062988281     val_loss = -1.5878335237503052\n",
            "Epoch 2720/5000      train_loss = -1.4577878713607788     val_loss = -1.5917022228240967\n",
            "Epoch 2730/5000      train_loss = -1.461333155632019     val_loss = -1.5955710411071777\n",
            "Epoch 2740/5000      train_loss = -1.4648785591125488     val_loss = -1.5994397401809692\n",
            "Epoch 2750/5000      train_loss = -1.468423843383789     val_loss = -1.6033084392547607\n",
            "Epoch 2760/5000      train_loss = -1.4719691276550293     val_loss = -1.6071771383285522\n",
            "Epoch 2770/5000      train_loss = -1.47551429271698     val_loss = -1.6110461950302124\n",
            "Epoch 2780/5000      train_loss = -1.4790596961975098     val_loss = -1.6149146556854248\n",
            "Epoch 2790/5000      train_loss = -1.482604742050171     val_loss = -1.6187835931777954\n",
            "Epoch 2800/5000      train_loss = -1.4861501455307007     val_loss = -1.622652292251587\n",
            "Epoch 2810/5000      train_loss = -1.489695429801941     val_loss = -1.626521110534668\n",
            "Epoch 2820/5000      train_loss = -1.4932408332824707     val_loss = -1.6303901672363281\n",
            "Epoch 2830/5000      train_loss = -1.496786117553711     val_loss = -1.63425874710083\n",
            "Epoch 2840/5000      train_loss = -1.5003314018249512     val_loss = -1.6381275653839111\n",
            "Epoch 2850/5000      train_loss = -1.5038766860961914     val_loss = -1.6419965028762817\n",
            "Epoch 2860/5000      train_loss = -1.5074222087860107     val_loss = -1.6458654403686523\n",
            "Epoch 2870/5000      train_loss = -1.5109673738479614     val_loss = -1.6497344970703125\n",
            "Epoch 2880/5000      train_loss = -1.5145126581192017     val_loss = -1.653603196144104\n",
            "Epoch 2890/5000      train_loss = -1.5180580615997314     val_loss = -1.6574723720550537\n",
            "Epoch 2900/5000      train_loss = -1.5216033458709717     val_loss = -1.6613410711288452\n",
            "Epoch 2910/5000      train_loss = -1.525148868560791     val_loss = -1.665210247039795\n",
            "Epoch 2920/5000      train_loss = -1.5286941528320312     val_loss = -1.669079303741455\n",
            "Epoch 2930/5000      train_loss = -1.532239556312561     val_loss = -1.6729483604431152\n",
            "Epoch 2940/5000      train_loss = -1.5357848405838013     val_loss = -1.6768172979354858\n",
            "Epoch 2950/5000      train_loss = -1.539330244064331     val_loss = -1.680686354637146\n",
            "Epoch 2960/5000      train_loss = -1.5428756475448608     val_loss = -1.6845555305480957\n",
            "Epoch 2970/5000      train_loss = -1.5464210510253906     val_loss = -1.6884247064590454\n",
            "Epoch 2980/5000      train_loss = -1.5499663352966309     val_loss = -1.692293643951416\n",
            "Epoch 2990/5000      train_loss = -1.5535118579864502     val_loss = -1.6961628198623657\n",
            "Epoch 3000/5000      train_loss = -1.5570573806762695     val_loss = -1.7000319957733154\n",
            "Epoch 3010/5000      train_loss = -1.5606027841567993     val_loss = -1.7039014101028442\n",
            "Epoch 3020/5000      train_loss = -1.564148187637329     val_loss = -1.7077707052230835\n",
            "Epoch 3030/5000      train_loss = -1.5676935911178589     val_loss = -1.7116400003433228\n",
            "Epoch 3040/5000      train_loss = -1.5712391138076782     val_loss = -1.715509295463562\n",
            "Epoch 3050/5000      train_loss = -1.5747846364974976     val_loss = -1.7193787097930908\n",
            "Epoch 3060/5000      train_loss = -1.578330159187317     val_loss = -1.72324800491333\n",
            "Epoch 3070/5000      train_loss = -1.5818756818771362     val_loss = -1.727117657661438\n",
            "Epoch 3080/5000      train_loss = -1.585421085357666     val_loss = -1.7309869527816772\n",
            "Epoch 3090/5000      train_loss = -1.5889666080474854     val_loss = -1.7348566055297852\n",
            "Epoch 3100/5000      train_loss = -1.5925123691558838     val_loss = -1.7387259006500244\n",
            "Epoch 3110/5000      train_loss = -1.5960577726364136     val_loss = -1.7425955533981323\n",
            "Epoch 3120/5000      train_loss = -1.5996034145355225     val_loss = -1.7464652061462402\n",
            "Epoch 3130/5000      train_loss = -1.6031489372253418     val_loss = -1.7503349781036377\n",
            "Epoch 3140/5000      train_loss = -1.6066946983337402     val_loss = -1.754204511642456\n",
            "Epoch 3150/5000      train_loss = -1.61024010181427     val_loss = -1.7580742835998535\n",
            "Epoch 3160/5000      train_loss = -1.613785743713379     val_loss = -1.7619441747665405\n",
            "Epoch 3170/5000      train_loss = -1.6173313856124878     val_loss = -1.765813946723938\n",
            "Epoch 3180/5000      train_loss = -1.6208771467208862     val_loss = -1.769683837890625\n",
            "Epoch 3190/5000      train_loss = -1.6244227886199951     val_loss = -1.773553729057312\n",
            "Epoch 3200/5000      train_loss = -1.6279685497283936     val_loss = -1.7774238586425781\n",
            "Epoch 3210/5000      train_loss = -1.631514310836792     val_loss = -1.7812939882278442\n",
            "Epoch 3220/5000      train_loss = -1.6350600719451904     val_loss = -1.7851639986038208\n",
            "Epoch 3230/5000      train_loss = -1.6386058330535889     val_loss = -1.7890342473983765\n",
            "Epoch 3240/5000      train_loss = -1.6421515941619873     val_loss = -1.7929043769836426\n",
            "Epoch 3250/5000      train_loss = -1.6456973552703857     val_loss = -1.7967747449874878\n",
            "Epoch 3260/5000      train_loss = -1.6492432355880737     val_loss = -1.800644874572754\n",
            "Epoch 3270/5000      train_loss = -1.6527891159057617     val_loss = -1.8045153617858887\n",
            "Epoch 3280/5000      train_loss = -1.6563348770141602     val_loss = -1.8083857297897339\n",
            "Epoch 3290/5000      train_loss = -1.6598808765411377     val_loss = -1.8122563362121582\n",
            "Epoch 3300/5000      train_loss = -1.6634266376495361     val_loss = -1.816126823425293\n",
            "Epoch 3310/5000      train_loss = -1.6669726371765137     val_loss = -1.8199974298477173\n",
            "Epoch 3320/5000      train_loss = -1.6705186367034912     val_loss = -1.8238681554794312\n",
            "Epoch 3330/5000      train_loss = -1.6740645170211792     val_loss = -1.8277390003204346\n",
            "Epoch 3340/5000      train_loss = -1.6776103973388672     val_loss = -1.831609845161438\n",
            "Epoch 3350/5000      train_loss = -1.6811563968658447     val_loss = -1.8354806900024414\n",
            "Epoch 3360/5000      train_loss = -1.6847025156021118     val_loss = -1.8393516540527344\n",
            "Epoch 3370/5000      train_loss = -1.6882487535476685     val_loss = -1.8432226181030273\n",
            "Epoch 3380/5000      train_loss = -1.6917946338653564     val_loss = -1.8470938205718994\n",
            "Epoch 3390/5000      train_loss = -1.6953407526016235     val_loss = -1.8509647846221924\n",
            "Epoch 3400/5000      train_loss = -1.6988868713378906     val_loss = -1.854836106300354\n",
            "Epoch 3410/5000      train_loss = -1.7024329900741577     val_loss = -1.858707308769226\n",
            "Epoch 3420/5000      train_loss = -1.7059792280197144     val_loss = -1.8625787496566772\n",
            "Epoch 3430/5000      train_loss = -1.7095253467559814     val_loss = -1.8664498329162598\n",
            "Epoch 3440/5000      train_loss = -1.713071584701538     val_loss = -1.87032151222229\n",
            "Epoch 3450/5000      train_loss = -1.7166178226470947     val_loss = -1.8741929531097412\n",
            "Epoch 3460/5000      train_loss = -1.7201640605926514     val_loss = -1.8780646324157715\n",
            "Epoch 3470/5000      train_loss = -1.7237104177474976     val_loss = -1.8819363117218018\n",
            "Epoch 3480/5000      train_loss = -1.7272566556930542     val_loss = -1.8858081102371216\n",
            "Epoch 3490/5000      train_loss = -1.7308030128479004     val_loss = -1.8896796703338623\n",
            "Epoch 3500/5000      train_loss = -1.7343493700027466     val_loss = -1.8935518264770508\n",
            "Epoch 3510/5000      train_loss = -1.7378957271575928     val_loss = -1.8974237442016602\n",
            "Epoch 3520/5000      train_loss = -1.7414419651031494     val_loss = -1.901295781135559\n",
            "Epoch 3530/5000      train_loss = -1.7449884414672852     val_loss = -1.9051676988601685\n",
            "Epoch 3540/5000      train_loss = -1.748534917831421     val_loss = -1.9090397357940674\n",
            "Epoch 3550/5000      train_loss = -1.7520813941955566     val_loss = -1.9129120111465454\n",
            "Epoch 3560/5000      train_loss = -1.7556277513504028     val_loss = -1.916784405708313\n",
            "Epoch 3570/5000      train_loss = -1.7591743469238281     val_loss = -1.920656442642212\n",
            "Epoch 3580/5000      train_loss = -1.7627208232879639     val_loss = -1.9245288372039795\n",
            "Epoch 3590/5000      train_loss = -1.7662674188613892     val_loss = -1.9284013509750366\n",
            "Epoch 3600/5000      train_loss = -1.769813895225525     val_loss = -1.9322738647460938\n",
            "Epoch 3610/5000      train_loss = -1.7733604907989502     val_loss = -1.9361462593078613\n",
            "Epoch 3620/5000      train_loss = -1.776906967163086     val_loss = -1.940018892288208\n",
            "Epoch 3630/5000      train_loss = -1.7804536819458008     val_loss = -1.9438916444778442\n",
            "Epoch 3640/5000      train_loss = -1.784000277519226     val_loss = -1.9477643966674805\n",
            "Epoch 3650/5000      train_loss = -1.7875468730926514     val_loss = -1.9516371488571167\n",
            "Epoch 3660/5000      train_loss = -1.7910935878753662     val_loss = -1.955509901046753\n",
            "Epoch 3670/5000      train_loss = -1.794640302658081     val_loss = -1.9593828916549683\n",
            "Epoch 3680/5000      train_loss = -1.798187017440796     val_loss = -1.9632558822631836\n",
            "Epoch 3690/5000      train_loss = -1.8017336130142212     val_loss = -1.967128872871399\n",
            "Epoch 3700/5000      train_loss = -1.8052804470062256     val_loss = -1.9710018634796143\n",
            "Epoch 3710/5000      train_loss = -1.8088271617889404     val_loss = -1.9748748540878296\n",
            "Epoch 3720/5000      train_loss = -1.8123738765716553     val_loss = -1.9787482023239136\n",
            "Epoch 3730/5000      train_loss = -1.8159207105636597     val_loss = -1.9826213121414185\n",
            "Epoch 3740/5000      train_loss = -1.819467544555664     val_loss = -1.9864944219589233\n",
            "Epoch 3750/5000      train_loss = -1.823014259338379     val_loss = -1.9903678894042969\n",
            "Epoch 3760/5000      train_loss = -1.8265610933303833     val_loss = -1.9942413568496704\n",
            "Epoch 3770/5000      train_loss = -1.8301079273223877     val_loss = -1.9981145858764648\n",
            "Epoch 3780/5000      train_loss = -1.8336548805236816     val_loss = -2.001988172531128\n",
            "Epoch 3790/5000      train_loss = -1.837201714515686     val_loss = -2.005861520767212\n",
            "Epoch 3800/5000      train_loss = -1.84074866771698     val_loss = -2.009734869003296\n",
            "Epoch 3810/5000      train_loss = -1.8442955017089844     val_loss = -2.013608694076538\n",
            "Epoch 3820/5000      train_loss = -1.8478424549102783     val_loss = -2.017482042312622\n",
            "Epoch 3830/5000      train_loss = -1.8513894081115723     val_loss = -2.021355628967285\n",
            "Epoch 3840/5000      train_loss = -1.854936122894287     val_loss = -2.0252294540405273\n",
            "Epoch 3850/5000      train_loss = -1.8584831953048706     val_loss = -2.0291030406951904\n",
            "Epoch 3860/5000      train_loss = -1.862030029296875     val_loss = -2.0329771041870117\n",
            "Epoch 3870/5000      train_loss = -1.8655771017074585     val_loss = -2.036850690841675\n",
            "Epoch 3880/5000      train_loss = -1.8691240549087524     val_loss = -2.040724515914917\n",
            "Epoch 3890/5000      train_loss = -1.872671127319336     val_loss = -2.044598340988159\n",
            "Epoch 3900/5000      train_loss = -1.8762180805206299     val_loss = -2.0484721660614014\n",
            "Epoch 3910/5000      train_loss = -1.8797649145126343     val_loss = -2.0523462295532227\n",
            "Epoch 3920/5000      train_loss = -1.8833121061325073     val_loss = -2.056220054626465\n",
            "Epoch 3930/5000      train_loss = -1.8868589401245117     val_loss = -2.060093879699707\n",
            "Epoch 3940/5000      train_loss = -1.8904061317443848     val_loss = -2.0639679431915283\n",
            "Epoch 3950/5000      train_loss = -1.8939530849456787     val_loss = -2.0678417682647705\n",
            "Epoch 3960/5000      train_loss = -1.8975000381469727     val_loss = -2.071715831756592\n",
            "Epoch 3970/5000      train_loss = -1.9010471105575562     val_loss = -2.075589656829834\n",
            "Epoch 3980/5000      train_loss = -1.9045941829681396     val_loss = -2.0794639587402344\n",
            "Epoch 3990/5000      train_loss = -1.9081412553787231     val_loss = -2.0833380222320557\n",
            "Epoch 4000/5000      train_loss = -1.9116883277893066     val_loss = -2.087211847305298\n",
            "Epoch 4010/5000      train_loss = -1.9152352809906006     val_loss = -2.0910861492156982\n",
            "Epoch 4020/5000      train_loss = -1.9187822341918945     val_loss = -2.0949602127075195\n",
            "Epoch 4030/5000      train_loss = -1.922329306602478     val_loss = -2.098834276199341\n",
            "Epoch 4040/5000      train_loss = -1.9258766174316406     val_loss = -2.102708101272583\n",
            "Epoch 4050/5000      train_loss = -1.9294235706329346     val_loss = -2.1065824031829834\n",
            "Epoch 4060/5000      train_loss = -1.932970643043518     val_loss = -2.1104564666748047\n",
            "Epoch 4070/5000      train_loss = -1.936517596244812     val_loss = -2.114330530166626\n",
            "Epoch 4080/5000      train_loss = -1.9400646686553955     val_loss = -2.1182045936584473\n",
            "Epoch 4090/5000      train_loss = -1.943611741065979     val_loss = -2.1220788955688477\n",
            "Epoch 4100/5000      train_loss = -1.9471588134765625     val_loss = -2.12595272064209\n",
            "Epoch 4110/5000      train_loss = -1.9507057666778564     val_loss = -2.1298270225524902\n",
            "Epoch 4120/5000      train_loss = -1.95425283908844     val_loss = -2.1337010860443115\n",
            "Epoch 4130/5000      train_loss = -1.9577997922897339     val_loss = -2.137575149536133\n",
            "Epoch 4140/5000      train_loss = -1.9613468647003174     val_loss = -2.141449213027954\n",
            "Epoch 4150/5000      train_loss = -1.9648938179016113     val_loss = -2.1453230381011963\n",
            "Epoch 4160/5000      train_loss = -1.9684410095214844     val_loss = -2.1491971015930176\n",
            "Epoch 4170/5000      train_loss = -1.9719879627227783     val_loss = -2.153071165084839\n",
            "Epoch 4180/5000      train_loss = -1.9755350351333618     val_loss = -2.156944990158081\n",
            "Epoch 4190/5000      train_loss = -1.9790818691253662     val_loss = -2.1608188152313232\n",
            "Epoch 4200/5000      train_loss = -1.9826289415359497     val_loss = -2.1646928787231445\n",
            "Epoch 4210/5000      train_loss = -1.986175775527954     val_loss = -2.1685667037963867\n",
            "Epoch 4220/5000      train_loss = -1.989722728729248     val_loss = -2.172440528869629\n",
            "Epoch 4230/5000      train_loss = -1.993269681930542     val_loss = -2.176314353942871\n",
            "Epoch 4240/5000      train_loss = -1.9968165159225464     val_loss = -2.1801881790161133\n",
            "Epoch 4250/5000      train_loss = -2.00036358833313     val_loss = -2.1840620040893555\n",
            "Epoch 4260/5000      train_loss = -2.0039103031158447     val_loss = -2.1879355907440186\n",
            "Epoch 4270/5000      train_loss = -2.0074572563171387     val_loss = -2.1918094158172607\n",
            "Epoch 4280/5000      train_loss = -2.0110042095184326     val_loss = -2.195683002471924\n",
            "Epoch 4290/5000      train_loss = -2.0145511627197266     val_loss = -2.199556589126587\n",
            "Epoch 4300/5000      train_loss = -2.0180978775024414     val_loss = -2.20343017578125\n",
            "Epoch 4310/5000      train_loss = -2.0216445922851562     val_loss = -2.207303762435913\n",
            "Epoch 4320/5000      train_loss = -2.02519154548645     val_loss = -2.211177349090576\n",
            "Epoch 4330/5000      train_loss = -2.028738260269165     val_loss = -2.21505069732666\n",
            "Epoch 4340/5000      train_loss = -2.03228497505188     val_loss = -2.218924045562744\n",
            "Epoch 4350/5000      train_loss = -2.0358316898345947     val_loss = -2.2227976322174072\n",
            "Epoch 4360/5000      train_loss = -2.0393786430358887     val_loss = -2.226670503616333\n",
            "Epoch 4370/5000      train_loss = -2.0429255962371826     val_loss = -2.230543851852417\n",
            "Epoch 4380/5000      train_loss = -2.0464720726013184     val_loss = -2.234417200088501\n",
            "Epoch 4390/5000      train_loss = -2.050018787384033     val_loss = -2.238290309906006\n",
            "Epoch 4400/5000      train_loss = -2.053565502166748     val_loss = -2.2421631813049316\n",
            "Epoch 4410/5000      train_loss = -2.057111978530884     val_loss = -2.2460362911224365\n",
            "Epoch 4420/5000      train_loss = -2.0606586933135986     val_loss = -2.2499094009399414\n",
            "Epoch 4430/5000      train_loss = -2.0642051696777344     val_loss = -2.253782272338867\n",
            "Epoch 4440/5000      train_loss = -2.067751884460449     val_loss = -2.257655143737793\n",
            "Epoch 4450/5000      train_loss = -2.071298360824585     val_loss = -2.2615280151367188\n",
            "Epoch 4460/5000      train_loss = -2.0748450756073     val_loss = -2.2654006481170654\n",
            "Epoch 4470/5000      train_loss = -2.0783915519714355     val_loss = -2.269273281097412\n",
            "Epoch 4480/5000      train_loss = -2.0819380283355713     val_loss = -2.273145914077759\n",
            "Epoch 4490/5000      train_loss = -2.085484504699707     val_loss = -2.2770187854766846\n",
            "Epoch 4500/5000      train_loss = -2.089031219482422     val_loss = -2.280891180038452\n",
            "Epoch 4510/5000      train_loss = -2.0925774574279785     val_loss = -2.2847635746002197\n",
            "Epoch 4520/5000      train_loss = -2.0961241722106934     val_loss = -2.2886359691619873\n",
            "Epoch 4530/5000      train_loss = -2.099670171737671     val_loss = -2.292508125305176\n",
            "Epoch 4540/5000      train_loss = -2.1032166481018066     val_loss = -2.2963805198669434\n",
            "Epoch 4550/5000      train_loss = -2.1067631244659424     val_loss = -2.300252676010132\n",
            "Epoch 4560/5000      train_loss = -2.110309600830078     val_loss = -2.3041248321533203\n",
            "Epoch 4570/5000      train_loss = -2.1138558387756348     val_loss = -2.307997226715088\n",
            "Epoch 4580/5000      train_loss = -2.1174020767211914     val_loss = -2.3118691444396973\n",
            "Epoch 4590/5000      train_loss = -2.120948314666748     val_loss = -2.3157410621643066\n",
            "Epoch 4600/5000      train_loss = -2.124494791030884     val_loss = -2.319612741470337\n",
            "Epoch 4610/5000      train_loss = -2.1280407905578613     val_loss = -2.3234846591949463\n",
            "Epoch 4620/5000      train_loss = -2.131587028503418     val_loss = -2.3273565769195557\n",
            "Epoch 4630/5000      train_loss = -2.1351332664489746     val_loss = -2.331228256225586\n",
            "Epoch 4640/5000      train_loss = -2.138679265975952     val_loss = -2.335099697113037\n",
            "Epoch 4650/5000      train_loss = -2.142225742340088     val_loss = -2.3389716148376465\n",
            "Epoch 4660/5000      train_loss = -2.1457717418670654     val_loss = -2.3428430557250977\n",
            "Epoch 4670/5000      train_loss = -2.149317741394043     val_loss = -2.346714496612549\n",
            "Epoch 4680/5000      train_loss = -2.1528639793395996     val_loss = -2.350586175918579\n",
            "Epoch 4690/5000      train_loss = -2.1564102172851562     val_loss = -2.354457378387451\n",
            "Epoch 4700/5000      train_loss = -2.1599559783935547     val_loss = -2.3583285808563232\n",
            "Epoch 4710/5000      train_loss = -2.1635022163391113     val_loss = -2.3621997833251953\n",
            "Epoch 4720/5000      train_loss = -2.1670479774475098     val_loss = -2.3660712242126465\n",
            "Epoch 4730/5000      train_loss = -2.1705939769744873     val_loss = -2.3699419498443604\n",
            "Epoch 4740/5000      train_loss = -2.174139976501465     val_loss = -2.3738131523132324\n",
            "Epoch 4750/5000      train_loss = -2.1776862144470215     val_loss = -2.3776841163635254\n",
            "Epoch 4760/5000      train_loss = -2.18123197555542     val_loss = -2.3815550804138184\n",
            "Epoch 4770/5000      train_loss = -2.1847779750823975     val_loss = -2.3854260444641113\n",
            "Epoch 4780/5000      train_loss = -2.188323736190796     val_loss = -2.389296770095825\n",
            "Epoch 4790/5000      train_loss = -2.1918697357177734     val_loss = -2.393167495727539\n",
            "Epoch 4800/5000      train_loss = -2.195415496826172     val_loss = -2.397038221359253\n",
            "Epoch 4810/5000      train_loss = -2.1989612579345703     val_loss = -2.4009087085723877\n",
            "Epoch 4820/5000      train_loss = -2.202507257461548     val_loss = -2.4047796726226807\n",
            "Epoch 4830/5000      train_loss = -2.206052780151367     val_loss = -2.4086501598358154\n",
            "Epoch 4840/5000      train_loss = -2.2095987796783447     val_loss = -2.41252064704895\n",
            "Epoch 4850/5000      train_loss = -2.213144540786743     val_loss = -2.416390895843506\n",
            "Epoch 4860/5000      train_loss = -2.2166903018951416     val_loss = -2.4202611446380615\n",
            "Epoch 4870/5000      train_loss = -2.22023606300354     val_loss = -2.4241316318511963\n",
            "Epoch 4880/5000      train_loss = -2.2237818241119385     val_loss = -2.428002119064331\n",
            "Epoch 4890/5000      train_loss = -2.227327346801758     val_loss = -2.4318723678588867\n",
            "Epoch 4900/5000      train_loss = -2.2308731079101562     val_loss = -2.4357423782348633\n",
            "Epoch 4910/5000      train_loss = -2.2344188690185547     val_loss = -2.439612627029419\n",
            "Epoch 4920/5000      train_loss = -2.237964391708374     val_loss = -2.4434826374053955\n",
            "Epoch 4930/5000      train_loss = -2.2415101528167725     val_loss = -2.447352886199951\n",
            "Epoch 4940/5000      train_loss = -2.245055913925171     val_loss = -2.4512224197387695\n",
            "Epoch 4950/5000      train_loss = -2.2486014366149902     val_loss = -2.455092430114746\n",
            "Epoch 4960/5000      train_loss = -2.2521469593048096     val_loss = -2.4589624404907227\n",
            "Epoch 4970/5000      train_loss = -2.255692481994629     val_loss = -2.462832450866699\n",
            "Epoch 4980/5000      train_loss = -2.2592382431030273     val_loss = -2.4667022228240967\n",
            "Epoch 4990/5000      train_loss = -2.262786626815796     val_loss = -2.4705801010131836\n"
          ]
        }
      ],
      "source": [
        "epoch_loss = []\n",
        "\n",
        "for e in range(T):\n",
        "  train_losses = []\n",
        "  val_losses = []\n",
        "\n",
        "  reassign_values(e)\n",
        "  for step, x_tr_batch in enumerate(train_data):\n",
        "    loss = train_step(x_tr_batch)\n",
        "    train_losses.append(loss)\n",
        "  \n",
        "  for step, x_v_batch in enumerate(val_data):\n",
        "    loss = val_step(x_v_batch)\n",
        "    val_losses.append(loss)\n",
        "\n",
        "  #l0 regularisation\n",
        "  for i in range(len(d_layers)):\n",
        "    kernel, bias = d_layers[i].layer.get_weights()\n",
        "    kernel1 = threshold_matrix(kernel, l0_reg)\n",
        "    bias1 = threshold_matrix(bias, l0_reg)\n",
        "    d_layers[i].layer.set_weights([kernel1, bias1])\n",
        "\n",
        "  train_loss = np.mean(np.array(train_losses))\n",
        "  val_loss = np.mean(np.array(val_losses))\n",
        "  epoch_loss.append([train_loss, val_loss])\n",
        "  \n",
        "  if e%10 == 0:\n",
        "    print(f'Epoch {e}/{T}      train_loss = {train_loss}     val_loss = {val_loss}')"
      ]
    },
    {
      "cell_type": "code",
      "execution_count": 97,
      "metadata": {},
      "outputs": [],
      "source": [
        "epoch_loss = np.array(epoch_loss)"
      ]
    },
    {
      "cell_type": "code",
      "execution_count": 98,
      "metadata": {
        "id": "SyyadLmrMQtj"
      },
      "outputs": [
        {
          "data": {
            "image/png": "[encoded data removed]",
            "text/plain": [
              "<Figure size 640x480 with 1 Axes>"
            ]
          },
          "metadata": {},
          "output_type": "display_data"
        }
      ],
      "source": [
        "def plot_results(losses):\n",
        "    train_loss = losses[:,0]\n",
        "    val_loss = losses[:,1]\n",
        "    epochs = np.arange(T)\n",
        "    plt.figure()\n",
        "    plt.plot(epochs, train_loss, label='train loss')\n",
        "    plt.plot(epochs, val_loss, label='val loss')\n",
        "    plt.legend()\n",
        "    plt.show()\n",
        "\n",
        "plot_results(epoch_loss)"
      ]
    },
    {
      "cell_type": "code",
      "execution_count": 105,
      "metadata": {},
      "outputs": [
        {
          "data": {
            "text/plain": [
              "TensorShape([200])"
            ]
          },
          "execution_count": 105,
          "metadata": {},
          "output_type": "execute_result"
        }
      ],
      "source": [
        "x_val.get_shape()"
      ]
    },
    {
      "cell_type": "code",
      "execution_count": 113,
      "metadata": {},
      "outputs": [
        {
          "data": {
            "text/plain": [
              "TensorShape([200, 5])"
            ]
          },
          "execution_count": 113,
          "metadata": {},
          "output_type": "execute_result"
        }
      ],
      "source": [
        "x_val_new.get_shape()"
      ]
    },
    {
      "cell_type": "code",
      "execution_count": 121,
      "metadata": {},
      "outputs": [
        {
          "data": {
            "image/png": "[encoded data removed]",
            "text/plain": [
              "<Figure size 640x480 with 1 Axes>"
            ]
          },
          "metadata": {},
          "output_type": "display_data"
        }
      ],
      "source": [
        "\n",
        "y_pred = model(x_data[:,0])\n",
        "y_true = tf.math.cos(x_data[:,0]-x_data[:,1]) + tf.math.cos(x_data[:,0]-x_data[:,2])\\\n",
        "          + tf.math.cos(x_data[:,0]-x_data[:,3]) + tf.math.cos(x_data[:,0]-x_data[:,4])\n",
        "plt.figure()\n",
        "plt.scatter(x_data[:,0],y_pred,label=\"predicted\")\n",
        "plt.scatter(x_data[:,0],y_true,label=\"true\")\n",
        "plt.legend()\n",
        "plt.show()\n"
      ]
    },
    {
      "cell_type": "code",
      "execution_count": 123,
      "metadata": {},
      "outputs": [
        {
          "data": {
            "text/plain": [
              "array([[1.71909646, 1.68910831, 1.96929167, 2.02049597],\n",
              "       [1.71909646, 1.68910831, 1.96929167, 2.02049597],\n",
              "       [1.71909646, 1.68910831, 1.96929167, 2.02049597],\n",
              "       ...,\n",
              "       [1.71909646, 1.68910831, 1.96929167, 2.02049597],\n",
              "       [1.71909646, 1.68910831, 1.96929167, 2.02049597],\n",
              "       [1.71909646, 1.68910831, 1.96929167, 2.02049597]])"
            ]
          },
          "execution_count": 123,
          "metadata": {},
          "output_type": "execute_result"
        }
      ],
      "source": [
        "x_data[:,1:5]"
      ]
    },
    {
      "cell_type": "code",
      "execution_count": 125,
      "metadata": {},
      "outputs": [
        {
          "data": {
            "image/png": "[encoded data removed]",
            "text/plain": [
              "<Figure size 640x480 with 1 Axes>"
            ]
          },
          "metadata": {},
          "output_type": "display_data"
        }
      ],
      "source": [
        "plt.hist(x_data[:,0],bins=100)\n",
        "plt.show()"
      ]
    },
    {
      "cell_type": "code",
      "execution_count": 118,
      "metadata": {},
      "outputs": [
        {
          "data": {
            "text/plain": [
              "array([0.41999012, 1.71909646, 1.68910831, 1.96929167, 2.02049597])"
            ]
          },
          "execution_count": 118,
          "metadata": {},
          "output_type": "execute_result"
        }
      ],
      "source": [
        "x_data[0]"
      ]
    },
    {
      "cell_type": "code",
      "execution_count": 119,
      "metadata": {},
      "outputs": [
        {
          "data": {
            "text/plain": [
              "<tf.Tensor: shape=(5,), dtype=float64, numpy=array([0.48522625, 1.71909646, 1.68910831, 1.96929167, 2.02049597])>"
            ]
          },
          "execution_count": 119,
          "metadata": {},
          "output_type": "execute_result"
        }
      ],
      "source": [
        "x_val_new[0]"
      ]
    },
    {
      "cell_type": "code",
      "execution_count": null,
      "metadata": {},
      "outputs": [],
      "source": []
    },
    {
      "cell_type": "code",
      "execution_count": null,
      "metadata": {
        "id": "KJgy9adcS_WK"
      },
      "outputs": [],
      "source": []
    },
    {
      "cell_type": "code",
      "execution_count": null,
      "metadata": {
        "id": "OYwCUKxVYNOs"
      },
      "outputs": [],
      "source": []
    },
    {
      "cell_type": "code",
      "execution_count": null,
      "metadata": {
        "id": "Cog2Dw4CYNL0"
      },
      "outputs": [],
      "source": []
    },
    {
      "cell_type": "code",
      "execution_count": 83,
      "metadata": {
        "id": "T9cqTAk-aGDH"
      },
      "outputs": [],
      "source": [
        "## Extract formula: Method 1 #################################\n",
        "kernels = []\n",
        "biases = []\n",
        "i = 0\n",
        "\n",
        "for layer in model.layers:\n",
        "  if i%2 == 1: #take only dense layers and not func layers\n",
        "    k,b = layer.get_weights()\n",
        "    kernels.append(k)\n",
        "    biases.append(b)\n",
        "  i = i+1"
      ]
    },
    {
      "cell_type": "code",
      "execution_count": 99,
      "metadata": {},
      "outputs": [],
      "source": [
        "## Extract formula: Method 2 ###################################\n",
        "\n",
        "kernels = []\n",
        "biases = []\n",
        "for i in range(len(d_layers)):\n",
        "  k, b = d_layers[i].layer.get_weights()\n",
        "  kernels.append(k)\n",
        "  biases.append(b)"
      ]
    },
    {
      "cell_type": "code",
      "execution_count": 100,
      "metadata": {
        "id": "Ff0QWgLdS_Tu"
      },
      "outputs": [],
      "source": [
        "in_nodes = sympy.symbols([f'x_{j+1}' for j in range(input_dim)], real=True)\n",
        "\n",
        "def symbolic_dense(in_expr, kernel, bias):\n",
        "  out_expr = []\n",
        "  for i in range(kernel.shape[1]):\n",
        "    expr = bias[i] + sum([w*x for w,x in zip(kernel[:,i], in_expr)])\n",
        "    out_expr.append(expr)\n",
        "  return out_expr\n",
        "\n",
        "#referred https://github.com/martius-lab/EQL_Tensorflow/blob/master/utils.py\n",
        "def yield_with_repeats(iterable, repeats):\n",
        "    \"\"\" Yield the ith item in iterable repeats[i] times. \"\"\"\n",
        "    it = iter(iterable)\n",
        "    for num in repeats:\n",
        "        new_val = next(it)\n",
        "        for i in range(num):\n",
        "            yield new_val\n",
        "\n",
        "def yield_equal_chunks(l, n):\n",
        "    \"\"\"Yield successive n-sized chunks from l.\"\"\"\n",
        "    for i in range(0, len(l), n):\n",
        "        yield l[i:i + n]\n",
        "\n",
        "def iter_by_chunks(lst, chunk_lens):\n",
        "    splits = [0] + list(accumulate(chunk_lens))\n",
        "    for beg, end in zip(splits[:-1], splits[1:]):\n",
        "        yield lst[beg:end]\n",
        "\n",
        "def input_generator(in_expr):\n",
        "  num_args = [1,1,1]\n",
        "  repeats = [v,v,v]\n",
        "  lengths = (a * b for a, b in zip(repeats, num_args))\n",
        "  all_inputs = iter_by_chunks(in_expr, lengths)\n",
        "  for big_input, arg in zip(all_inputs, repeats):\n",
        "        yield from zip(*yield_equal_chunks(big_input, arg))\n",
        "\n",
        "def symbolic_eql(in_expr):\n",
        "  repeats = [v,v,v]\n",
        "  fn_iter = yield_with_repeats(sympy_ops, repeats)\n",
        "  inp_iter = input_generator(in_expr)\n",
        "  expr = [fn(*item) for item,fn in zip(inp_iter, fn_iter)]\n",
        "  return expr"
      ]
    },
    {
      "cell_type": "code",
      "execution_count": 101,
      "metadata": {
        "id": "W94kbIsYS_RT"
      },
      "outputs": [],
      "source": [
        "res = in_nodes\n",
        "for i in range(L-1): ##hidden layers\n",
        "  res = symbolic_dense(res, kernels[i], biases[i])\n",
        "  res = symbolic_eql(res)\n",
        "final_expr = symbolic_dense(res, kernels[L-1], biases[L-1])"
      ]
    },
    {
      "cell_type": "code",
      "execution_count": 102,
      "metadata": {
        "colab": {
          "base_uri": "https://localhost:8080/"
        },
        "id": "rSZhdujAs0Zp",
        "outputId": "b5f91554-7333-46cf-8a72-8d9292622874"
      },
      "outputs": [
        {
          "name": "stdout",
          "output_type": "stream",
          "text": [
            "[2.48106932640076*sin(0.304651826620102*x_1) + 2.525958776474*sin(0.304651945829391*x_1) + 2.65786719322205*sin(0.304651975631714*x_1)]\n"
          ]
        }
      ],
      "source": [
        "print(final_expr)"
      ]
    },
    {
      "cell_type": "code",
      "execution_count": 103,
      "metadata": {
        "colab": {
          "base_uri": "https://localhost:8080/"
        },
        "id": "VWDMRmNiENOG",
        "outputId": "79037056-b841-49ff-8f5f-dbae9aeda333"
      },
      "outputs": [
        {
          "name": "stdout",
          "output_type": "stream",
          "text": [
            "[x_1]\n"
          ]
        }
      ],
      "source": [
        "print(in_nodes)"
      ]
    },
    {
      "cell_type": "code",
      "execution_count": null,
      "metadata": {
        "id": "JTNqocEJdjpJ"
      },
      "outputs": [],
      "source": []
    },
    {
      "cell_type": "code",
      "execution_count": null,
      "metadata": {
        "colab": {
          "base_uri": "https://localhost:8080/"
        },
        "id": "THPHyT795Iaf",
        "outputId": "ae1ef9c5-216e-4255-80a4-38155deb7f0c"
      },
      "outputs": [
        {
          "name": "stdout",
          "output_type": "stream",
          "text": [
            "(1000, 5)\n",
            "(1000,)\n",
            "32/32 [==============================] - 0s 2ms/step\n",
            "[2.6729279 3.6438878 1.9597814 3.423102  2.3374755 3.783485  3.7766137\n",
            " 1.4907472 1.4525564 2.7729478]\n",
            "[[2.6761672]\n",
            " [3.6461947]\n",
            " [1.956576 ]\n",
            " [3.4249556]\n",
            " [2.338623 ]\n",
            " [3.7857301]\n",
            " [3.7799225]\n",
            " [1.5004735]\n",
            " [1.4647846]\n",
            " [2.782048 ]]\n"
          ]
        }
      ],
      "source": [
        "# Evaluate\n",
        "x_int_test = tf.random.uniform(shape=[1000,5],minval=-1,maxval=1,seed=10)\n",
        "y_int_test = tf.math.cos(x_int_test[:,0]-x_int_test[:,1]) + tf.math.cos(x_int_test[:,0]-x_int_test[:,2]) \\\n",
        "          + tf.math.cos(x_int_test[:,0]-x_int_test[:,3]) + tf.math.cos(x_int_test[:,0]-x_int_test[:,4])\n",
        "\n",
        "print(x_int_test.get_shape())\n",
        "print(y_int_test.get_shape())\n",
        "\n",
        "y_int_pred = model.predict(x_int_test)\n",
        "print(y_int_test[:10].numpy())\n",
        "print(y_int_pred[:10])"
      ]
    },
    {
      "cell_type": "code",
      "execution_count": null,
      "metadata": {
        "colab": {
          "base_uri": "https://localhost:8080/",
          "height": 781
        },
        "id": "odLi1JME4IlA",
        "outputId": "f11d6d1b-3984-4ce0-f437-ba40edc70234"
      },
      "outputs": [
        {
          "ename": "AttributeError",
          "evalue": "ignored",
          "output_type": "error",
          "traceback": [
            "\u001b[0;31m---------------------------------------------------------------------------\u001b[0m",
            "\u001b[0;31mAttributeError\u001b[0m                            Traceback (most recent call last)",
            "\u001b[0;32m<ipython-input-35-fcdc7d8da914>\u001b[0m in \u001b[0;36m<cell line: 1>\u001b[0;34m()\u001b[0m\n\u001b[0;32m----> 1\u001b[0;31m \u001b[0mplt\u001b[0m\u001b[0;34m.\u001b[0m\u001b[0mplot\u001b[0m\u001b[0;34m(\u001b[0m\u001b[0mx_int_test\u001b[0m\u001b[0;34m[\u001b[0m\u001b[0;34m:\u001b[0m\u001b[0;34m,\u001b[0m\u001b[0;36m0\u001b[0m\u001b[0;34m]\u001b[0m\u001b[0;34m,\u001b[0m\u001b[0my_int_test\u001b[0m\u001b[0;34m,\u001b[0m\u001b[0mc\u001b[0m\u001b[0;34m=\u001b[0m\u001b[0;34m'y'\u001b[0m\u001b[0;34m,\u001b[0m\u001b[0ms\u001b[0m\u001b[0;34m=\u001b[0m\u001b[0;36m2\u001b[0m\u001b[0;34m,\u001b[0m \u001b[0mlabel\u001b[0m \u001b[0;34m=\u001b[0m \u001b[0;34m'y_true'\u001b[0m\u001b[0;34m)\u001b[0m\u001b[0;34m\u001b[0m\u001b[0;34m\u001b[0m\u001b[0m\n\u001b[0m\u001b[1;32m      2\u001b[0m \u001b[0mplt\u001b[0m\u001b[0;34m.\u001b[0m\u001b[0mplot\u001b[0m\u001b[0;34m(\u001b[0m\u001b[0mx_int_test\u001b[0m\u001b[0;34m[\u001b[0m\u001b[0;34m:\u001b[0m\u001b[0;34m,\u001b[0m\u001b[0;36m0\u001b[0m\u001b[0;34m]\u001b[0m\u001b[0;34m,\u001b[0m\u001b[0my_int_pred\u001b[0m\u001b[0;34m,\u001b[0m\u001b[0mc\u001b[0m\u001b[0;34m=\u001b[0m\u001b[0;34m'k'\u001b[0m\u001b[0;34m,\u001b[0m\u001b[0ms\u001b[0m\u001b[0;34m=\u001b[0m\u001b[0;36m1\u001b[0m\u001b[0;34m,\u001b[0m \u001b[0mlabel\u001b[0m \u001b[0;34m=\u001b[0m \u001b[0;34m'y_pred'\u001b[0m\u001b[0;34m)\u001b[0m\u001b[0;34m\u001b[0m\u001b[0;34m\u001b[0m\u001b[0m\n\u001b[1;32m      3\u001b[0m \u001b[0mplt\u001b[0m\u001b[0;34m.\u001b[0m\u001b[0mlegend\u001b[0m\u001b[0;34m(\u001b[0m\u001b[0;34m)\u001b[0m\u001b[0;34m\u001b[0m\u001b[0;34m\u001b[0m\u001b[0m\n\u001b[1;32m      4\u001b[0m \u001b[0mplt\u001b[0m\u001b[0;34m.\u001b[0m\u001b[0mshow\u001b[0m\u001b[0;34m(\u001b[0m\u001b[0;34m)\u001b[0m\u001b[0;34m\u001b[0m\u001b[0;34m\u001b[0m\u001b[0m\n",
            "\u001b[0;32m/usr/local/lib/python3.10/dist-packages/matplotlib/pyplot.py\u001b[0m in \u001b[0;36mplot\u001b[0;34m(scalex, scaley, data, *args, **kwargs)\u001b[0m\n\u001b[1;32m   2810\u001b[0m \u001b[0;34m@\u001b[0m\u001b[0m_copy_docstring_and_deprecators\u001b[0m\u001b[0;34m(\u001b[0m\u001b[0mAxes\u001b[0m\u001b[0;34m.\u001b[0m\u001b[0mplot\u001b[0m\u001b[0;34m)\u001b[0m\u001b[0;34m\u001b[0m\u001b[0;34m\u001b[0m\u001b[0m\n\u001b[1;32m   2811\u001b[0m \u001b[0;32mdef\u001b[0m \u001b[0mplot\u001b[0m\u001b[0;34m(\u001b[0m\u001b[0;34m*\u001b[0m\u001b[0margs\u001b[0m\u001b[0;34m,\u001b[0m \u001b[0mscalex\u001b[0m\u001b[0;34m=\u001b[0m\u001b[0;32mTrue\u001b[0m\u001b[0;34m,\u001b[0m \u001b[0mscaley\u001b[0m\u001b[0;34m=\u001b[0m\u001b[0;32mTrue\u001b[0m\u001b[0;34m,\u001b[0m \u001b[0mdata\u001b[0m\u001b[0;34m=\u001b[0m\u001b[0;32mNone\u001b[0m\u001b[0;34m,\u001b[0m \u001b[0;34m**\u001b[0m\u001b[0mkwargs\u001b[0m\u001b[0;34m)\u001b[0m\u001b[0;34m:\u001b[0m\u001b[0;34m\u001b[0m\u001b[0;34m\u001b[0m\u001b[0m\n\u001b[0;32m-> 2812\u001b[0;31m     return gca().plot(\n\u001b[0m\u001b[1;32m   2813\u001b[0m         \u001b[0;34m*\u001b[0m\u001b[0margs\u001b[0m\u001b[0;34m,\u001b[0m \u001b[0mscalex\u001b[0m\u001b[0;34m=\u001b[0m\u001b[0mscalex\u001b[0m\u001b[0;34m,\u001b[0m \u001b[0mscaley\u001b[0m\u001b[0;34m=\u001b[0m\u001b[0mscaley\u001b[0m\u001b[0;34m,\u001b[0m\u001b[0;34m\u001b[0m\u001b[0;34m\u001b[0m\u001b[0m\n\u001b[1;32m   2814\u001b[0m         **({\"data\": data} if data is not None else {}), **kwargs)\n",
            "\u001b[0;32m/usr/local/lib/python3.10/dist-packages/matplotlib/axes/_axes.py\u001b[0m in \u001b[0;36mplot\u001b[0;34m(self, scalex, scaley, data, *args, **kwargs)\u001b[0m\n\u001b[1;32m   1686\u001b[0m         \"\"\"\n\u001b[1;32m   1687\u001b[0m         \u001b[0mkwargs\u001b[0m \u001b[0;34m=\u001b[0m \u001b[0mcbook\u001b[0m\u001b[0;34m.\u001b[0m\u001b[0mnormalize_kwargs\u001b[0m\u001b[0;34m(\u001b[0m\u001b[0mkwargs\u001b[0m\u001b[0;34m,\u001b[0m \u001b[0mmlines\u001b[0m\u001b[0;34m.\u001b[0m\u001b[0mLine2D\u001b[0m\u001b[0;34m)\u001b[0m\u001b[0;34m\u001b[0m\u001b[0;34m\u001b[0m\u001b[0m\n\u001b[0;32m-> 1688\u001b[0;31m         \u001b[0mlines\u001b[0m \u001b[0;34m=\u001b[0m \u001b[0;34m[\u001b[0m\u001b[0;34m*\u001b[0m\u001b[0mself\u001b[0m\u001b[0;34m.\u001b[0m\u001b[0m_get_lines\u001b[0m\u001b[0;34m(\u001b[0m\u001b[0;34m*\u001b[0m\u001b[0margs\u001b[0m\u001b[0;34m,\u001b[0m \u001b[0mdata\u001b[0m\u001b[0;34m=\u001b[0m\u001b[0mdata\u001b[0m\u001b[0;34m,\u001b[0m \u001b[0;34m**\u001b[0m\u001b[0mkwargs\u001b[0m\u001b[0;34m)\u001b[0m\u001b[0;34m]\u001b[0m\u001b[0;34m\u001b[0m\u001b[0;34m\u001b[0m\u001b[0m\n\u001b[0m\u001b[1;32m   1689\u001b[0m         \u001b[0;32mfor\u001b[0m \u001b[0mline\u001b[0m \u001b[0;32min\u001b[0m \u001b[0mlines\u001b[0m\u001b[0;34m:\u001b[0m\u001b[0;34m\u001b[0m\u001b[0;34m\u001b[0m\u001b[0m\n\u001b[1;32m   1690\u001b[0m             \u001b[0mself\u001b[0m\u001b[0;34m.\u001b[0m\u001b[0madd_line\u001b[0m\u001b[0;34m(\u001b[0m\u001b[0mline\u001b[0m\u001b[0;34m)\u001b[0m\u001b[0;34m\u001b[0m\u001b[0;34m\u001b[0m\u001b[0m\n",
            "\u001b[0;32m/usr/local/lib/python3.10/dist-packages/matplotlib/axes/_base.py\u001b[0m in \u001b[0;36m__call__\u001b[0;34m(self, data, *args, **kwargs)\u001b[0m\n\u001b[1;32m    309\u001b[0m                 \u001b[0mthis\u001b[0m \u001b[0;34m+=\u001b[0m \u001b[0margs\u001b[0m\u001b[0;34m[\u001b[0m\u001b[0;36m0\u001b[0m\u001b[0;34m]\u001b[0m\u001b[0;34m,\u001b[0m\u001b[0;34m\u001b[0m\u001b[0;34m\u001b[0m\u001b[0m\n\u001b[1;32m    310\u001b[0m                 \u001b[0margs\u001b[0m \u001b[0;34m=\u001b[0m \u001b[0margs\u001b[0m\u001b[0;34m[\u001b[0m\u001b[0;36m1\u001b[0m\u001b[0;34m:\u001b[0m\u001b[0;34m]\u001b[0m\u001b[0;34m\u001b[0m\u001b[0;34m\u001b[0m\u001b[0m\n\u001b[0;32m--> 311\u001b[0;31m             yield from self._plot_args(\n\u001b[0m\u001b[1;32m    312\u001b[0m                 this, kwargs, ambiguous_fmt_datakey=ambiguous_fmt_datakey)\n\u001b[1;32m    313\u001b[0m \u001b[0;34m\u001b[0m\u001b[0m\n",
            "\u001b[0;32m/usr/local/lib/python3.10/dist-packages/matplotlib/axes/_base.py\u001b[0m in \u001b[0;36m_plot_args\u001b[0;34m(self, tup, kwargs, return_kwargs, ambiguous_fmt_datakey)\u001b[0m\n\u001b[1;32m    542\u001b[0m             \u001b[0;32mreturn\u001b[0m \u001b[0mlist\u001b[0m\u001b[0;34m(\u001b[0m\u001b[0mresult\u001b[0m\u001b[0;34m)\u001b[0m\u001b[0;34m\u001b[0m\u001b[0;34m\u001b[0m\u001b[0m\n\u001b[1;32m    543\u001b[0m         \u001b[0;32melse\u001b[0m\u001b[0;34m:\u001b[0m\u001b[0;34m\u001b[0m\u001b[0;34m\u001b[0m\u001b[0m\n\u001b[0;32m--> 544\u001b[0;31m             \u001b[0;32mreturn\u001b[0m \u001b[0;34m[\u001b[0m\u001b[0ml\u001b[0m\u001b[0;34m[\u001b[0m\u001b[0;36m0\u001b[0m\u001b[0;34m]\u001b[0m \u001b[0;32mfor\u001b[0m \u001b[0ml\u001b[0m \u001b[0;32min\u001b[0m \u001b[0mresult\u001b[0m\u001b[0;34m]\u001b[0m\u001b[0;34m\u001b[0m\u001b[0;34m\u001b[0m\u001b[0m\n\u001b[0m\u001b[1;32m    545\u001b[0m \u001b[0;34m\u001b[0m\u001b[0m\n\u001b[1;32m    546\u001b[0m \u001b[0;34m\u001b[0m\u001b[0m\n",
            "\u001b[0;32m/usr/local/lib/python3.10/dist-packages/matplotlib/axes/_base.py\u001b[0m in \u001b[0;36m<listcomp>\u001b[0;34m(.0)\u001b[0m\n\u001b[1;32m    542\u001b[0m             \u001b[0;32mreturn\u001b[0m \u001b[0mlist\u001b[0m\u001b[0;34m(\u001b[0m\u001b[0mresult\u001b[0m\u001b[0;34m)\u001b[0m\u001b[0;34m\u001b[0m\u001b[0;34m\u001b[0m\u001b[0m\n\u001b[1;32m    543\u001b[0m         \u001b[0;32melse\u001b[0m\u001b[0;34m:\u001b[0m\u001b[0;34m\u001b[0m\u001b[0;34m\u001b[0m\u001b[0m\n\u001b[0;32m--> 544\u001b[0;31m             \u001b[0;32mreturn\u001b[0m \u001b[0;34m[\u001b[0m\u001b[0ml\u001b[0m\u001b[0;34m[\u001b[0m\u001b[0;36m0\u001b[0m\u001b[0;34m]\u001b[0m \u001b[0;32mfor\u001b[0m \u001b[0ml\u001b[0m \u001b[0;32min\u001b[0m \u001b[0mresult\u001b[0m\u001b[0;34m]\u001b[0m\u001b[0;34m\u001b[0m\u001b[0;34m\u001b[0m\u001b[0m\n\u001b[0m\u001b[1;32m    545\u001b[0m \u001b[0;34m\u001b[0m\u001b[0m\n\u001b[1;32m    546\u001b[0m \u001b[0;34m\u001b[0m\u001b[0m\n",
            "\u001b[0;32m/usr/local/lib/python3.10/dist-packages/matplotlib/axes/_base.py\u001b[0m in \u001b[0;36m<genexpr>\u001b[0;34m(.0)\u001b[0m\n\u001b[1;32m    535\u001b[0m             \u001b[0mlabels\u001b[0m \u001b[0;34m=\u001b[0m \u001b[0;34m[\u001b[0m\u001b[0mlabel\u001b[0m\u001b[0;34m]\u001b[0m \u001b[0;34m*\u001b[0m \u001b[0mn_datasets\u001b[0m\u001b[0;34m\u001b[0m\u001b[0;34m\u001b[0m\u001b[0m\n\u001b[1;32m    536\u001b[0m \u001b[0;34m\u001b[0m\u001b[0m\n\u001b[0;32m--> 537\u001b[0;31m         result = (make_artist(x[:, j % ncx], y[:, j % ncy], kw,\n\u001b[0m\u001b[1;32m    538\u001b[0m                               {**kwargs, 'label': label})\n\u001b[1;32m    539\u001b[0m                   for j, label in enumerate(labels))\n",
            "\u001b[0;32m/usr/local/lib/python3.10/dist-packages/matplotlib/axes/_base.py\u001b[0m in \u001b[0;36m_makeline\u001b[0;34m(self, x, y, kw, kwargs)\u001b[0m\n\u001b[1;32m    349\u001b[0m         \u001b[0mdefault_dict\u001b[0m \u001b[0;34m=\u001b[0m \u001b[0mself\u001b[0m\u001b[0;34m.\u001b[0m\u001b[0m_getdefaults\u001b[0m\u001b[0;34m(\u001b[0m\u001b[0mset\u001b[0m\u001b[0;34m(\u001b[0m\u001b[0;34m)\u001b[0m\u001b[0;34m,\u001b[0m \u001b[0mkw\u001b[0m\u001b[0;34m)\u001b[0m\u001b[0;34m\u001b[0m\u001b[0;34m\u001b[0m\u001b[0m\n\u001b[1;32m    350\u001b[0m         \u001b[0mself\u001b[0m\u001b[0;34m.\u001b[0m\u001b[0m_setdefaults\u001b[0m\u001b[0;34m(\u001b[0m\u001b[0mdefault_dict\u001b[0m\u001b[0;34m,\u001b[0m \u001b[0mkw\u001b[0m\u001b[0;34m)\u001b[0m\u001b[0;34m\u001b[0m\u001b[0;34m\u001b[0m\u001b[0m\n\u001b[0;32m--> 351\u001b[0;31m         \u001b[0mseg\u001b[0m \u001b[0;34m=\u001b[0m \u001b[0mmlines\u001b[0m\u001b[0;34m.\u001b[0m\u001b[0mLine2D\u001b[0m\u001b[0;34m(\u001b[0m\u001b[0mx\u001b[0m\u001b[0;34m,\u001b[0m \u001b[0my\u001b[0m\u001b[0;34m,\u001b[0m \u001b[0;34m**\u001b[0m\u001b[0mkw\u001b[0m\u001b[0;34m)\u001b[0m\u001b[0;34m\u001b[0m\u001b[0;34m\u001b[0m\u001b[0m\n\u001b[0m\u001b[1;32m    352\u001b[0m         \u001b[0;32mreturn\u001b[0m \u001b[0mseg\u001b[0m\u001b[0;34m,\u001b[0m \u001b[0mkw\u001b[0m\u001b[0;34m\u001b[0m\u001b[0;34m\u001b[0m\u001b[0m\n\u001b[1;32m    353\u001b[0m \u001b[0;34m\u001b[0m\u001b[0m\n",
            "\u001b[0;32m/usr/local/lib/python3.10/dist-packages/matplotlib/_api/deprecation.py\u001b[0m in \u001b[0;36mwrapper\u001b[0;34m(*args, **kwargs)\u001b[0m\n\u001b[1;32m    452\u001b[0m                 \u001b[0;34m\"parameter will become keyword-only %(removal)s.\"\u001b[0m\u001b[0;34m,\u001b[0m\u001b[0;34m\u001b[0m\u001b[0;34m\u001b[0m\u001b[0m\n\u001b[1;32m    453\u001b[0m                 name=name, obj_type=f\"parameter of {func.__name__}()\")\n\u001b[0;32m--> 454\u001b[0;31m         \u001b[0;32mreturn\u001b[0m \u001b[0mfunc\u001b[0m\u001b[0;34m(\u001b[0m\u001b[0;34m*\u001b[0m\u001b[0margs\u001b[0m\u001b[0;34m,\u001b[0m \u001b[0;34m**\u001b[0m\u001b[0mkwargs\u001b[0m\u001b[0;34m)\u001b[0m\u001b[0;34m\u001b[0m\u001b[0;34m\u001b[0m\u001b[0m\n\u001b[0m\u001b[1;32m    455\u001b[0m \u001b[0;34m\u001b[0m\u001b[0m\n\u001b[1;32m    456\u001b[0m     \u001b[0;31m# Don't modify *func*'s signature, as boilerplate.py needs it.\u001b[0m\u001b[0;34m\u001b[0m\u001b[0;34m\u001b[0m\u001b[0m\n",
            "\u001b[0;32m/usr/local/lib/python3.10/dist-packages/matplotlib/lines.py\u001b[0m in \u001b[0;36m__init__\u001b[0;34m(self, xdata, ydata, linewidth, linestyle, color, gapcolor, marker, markersize, markeredgewidth, markeredgecolor, markerfacecolor, markerfacecoloralt, fillstyle, antialiased, dash_capstyle, solid_capstyle, dash_joinstyle, solid_joinstyle, pickradius, drawstyle, markevery, **kwargs)\u001b[0m\n\u001b[1;32m    391\u001b[0m         \u001b[0;31m# update kwargs before updating data to give the caller a\u001b[0m\u001b[0;34m\u001b[0m\u001b[0;34m\u001b[0m\u001b[0m\n\u001b[1;32m    392\u001b[0m         \u001b[0;31m# chance to init axes (and hence unit support)\u001b[0m\u001b[0;34m\u001b[0m\u001b[0;34m\u001b[0m\u001b[0m\n\u001b[0;32m--> 393\u001b[0;31m         \u001b[0mself\u001b[0m\u001b[0;34m.\u001b[0m\u001b[0m_internal_update\u001b[0m\u001b[0;34m(\u001b[0m\u001b[0mkwargs\u001b[0m\u001b[0;34m)\u001b[0m\u001b[0;34m\u001b[0m\u001b[0;34m\u001b[0m\u001b[0m\n\u001b[0m\u001b[1;32m    394\u001b[0m         \u001b[0mself\u001b[0m\u001b[0;34m.\u001b[0m\u001b[0m_pickradius\u001b[0m \u001b[0;34m=\u001b[0m \u001b[0mpickradius\u001b[0m\u001b[0;34m\u001b[0m\u001b[0;34m\u001b[0m\u001b[0m\n\u001b[1;32m    395\u001b[0m         \u001b[0mself\u001b[0m\u001b[0;34m.\u001b[0m\u001b[0mind_offset\u001b[0m \u001b[0;34m=\u001b[0m \u001b[0;36m0\u001b[0m\u001b[0;34m\u001b[0m\u001b[0;34m\u001b[0m\u001b[0m\n",
            "\u001b[0;32m/usr/local/lib/python3.10/dist-packages/matplotlib/artist.py\u001b[0m in \u001b[0;36m_internal_update\u001b[0;34m(self, kwargs)\u001b[0m\n\u001b[1;32m   1221\u001b[0m         \u001b[0mThe\u001b[0m \u001b[0mlack\u001b[0m \u001b[0mof\u001b[0m \u001b[0mprenormalization\u001b[0m \u001b[0;32mis\u001b[0m \u001b[0mto\u001b[0m \u001b[0mmaintain\u001b[0m \u001b[0mbackcompatibility\u001b[0m\u001b[0;34m.\u001b[0m\u001b[0;34m\u001b[0m\u001b[0;34m\u001b[0m\u001b[0m\n\u001b[1;32m   1222\u001b[0m         \"\"\"\n\u001b[0;32m-> 1223\u001b[0;31m         return self._update_props(\n\u001b[0m\u001b[1;32m   1224\u001b[0m             \u001b[0mkwargs\u001b[0m\u001b[0;34m,\u001b[0m \u001b[0;34m\"{cls.__name__}.set() got an unexpected keyword argument \"\u001b[0m\u001b[0;34m\u001b[0m\u001b[0;34m\u001b[0m\u001b[0m\n\u001b[1;32m   1225\u001b[0m             \"{prop_name!r}\")\n",
            "\u001b[0;32m/usr/local/lib/python3.10/dist-packages/matplotlib/artist.py\u001b[0m in \u001b[0;36m_update_props\u001b[0;34m(self, props, errfmt)\u001b[0m\n\u001b[1;32m   1195\u001b[0m                     \u001b[0mfunc\u001b[0m \u001b[0;34m=\u001b[0m \u001b[0mgetattr\u001b[0m\u001b[0;34m(\u001b[0m\u001b[0mself\u001b[0m\u001b[0;34m,\u001b[0m \u001b[0;34mf\"set_{k}\"\u001b[0m\u001b[0;34m,\u001b[0m \u001b[0;32mNone\u001b[0m\u001b[0;34m)\u001b[0m\u001b[0;34m\u001b[0m\u001b[0;34m\u001b[0m\u001b[0m\n\u001b[1;32m   1196\u001b[0m                     \u001b[0;32mif\u001b[0m \u001b[0;32mnot\u001b[0m \u001b[0mcallable\u001b[0m\u001b[0;34m(\u001b[0m\u001b[0mfunc\u001b[0m\u001b[0;34m)\u001b[0m\u001b[0;34m:\u001b[0m\u001b[0;34m\u001b[0m\u001b[0;34m\u001b[0m\u001b[0m\n\u001b[0;32m-> 1197\u001b[0;31m                         raise AttributeError(\n\u001b[0m\u001b[1;32m   1198\u001b[0m                             errfmt.format(cls=type(self), prop_name=k))\n\u001b[1;32m   1199\u001b[0m                     \u001b[0mret\u001b[0m\u001b[0;34m.\u001b[0m\u001b[0mappend\u001b[0m\u001b[0;34m(\u001b[0m\u001b[0mfunc\u001b[0m\u001b[0;34m(\u001b[0m\u001b[0mv\u001b[0m\u001b[0;34m)\u001b[0m\u001b[0;34m)\u001b[0m\u001b[0;34m\u001b[0m\u001b[0;34m\u001b[0m\u001b[0m\n",
            "\u001b[0;31mAttributeError\u001b[0m: Line2D.set() got an unexpected keyword argument 's'"
          ]
        },
        {
          "data": {
            "image/png": "[encoded data removed]",
            "text/plain": [
              "<Figure size 640x480 with 1 Axes>"
            ]
          },
          "metadata": {},
          "output_type": "display_data"
        }
      ],
      "source": [
        "plt.scatter(x_int_test[:,0],y_int_test,c='y',s=2, label = 'y_true')\n",
        "plt.scatter(x_int_test[:,0],y_int_pred,c='k',s=1, label = 'y_pred')\n",
        "plt.legend()\n",
        "plt.show()"
      ]
    },
    {
      "cell_type": "code",
      "execution_count": null,
      "metadata": {
        "id": "7qotpBKA4IiJ"
      },
      "outputs": [],
      "source": []
    },
    {
      "cell_type": "code",
      "execution_count": null,
      "metadata": {
        "id": "m6XYgWli-BGy"
      },
      "outputs": [],
      "source": [
        "# Extrapolation dataset\n",
        "x_ext = tf.random.uniform(shape=[1000,1],minval=-2,maxval=2,seed=10)\n",
        "mask = tf.cast(tf.abs(x_ext) > 1.0, dtype='tf.float32')\n",
        "x_ext = tf.multiply(x_ext, mask)\n",
        "y_ext_test = (1./3)*(tf.multiply(1.+x_ext,tf.sin(np.pi*x_ext)) +\n",
        "                  tf.multiply(tf.multiply(x_ext,x_ext),x_ext))\n",
        "\n",
        "print(x_ext.get_shape())\n",
        "\n",
        "x_ext_test = tf.concat([x_ext]*4,axis=1)\n",
        "print(x_ext_test.get_shape())\n",
        "\n",
        "y_ext_pred = model(x_ext_test, 1e-4, 0, 0)\n",
        "print(y_ext_pred.get_shape())"
      ]
    },
    {
      "cell_type": "code",
      "execution_count": null,
      "metadata": {
        "id": "UDUbZrRnAzdN"
      },
      "outputs": [],
      "source": [
        "plt.scatter(x_int_test[:,0],y_int_test,c='y',s=10, name = 'y_true')\n",
        "plt.scatter(x_int_test[:,0],y_int_pred,c='k',s=1, name = 'y_pred')\n",
        "plt.show()"
      ]
    },
    {
      "cell_type": "code",
      "execution_count": null,
      "metadata": {
        "id": "LJQ-VZJSBJ1w"
      },
      "outputs": [],
      "source": []
    },
    {
      "cell_type": "code",
      "execution_count": null,
      "metadata": {
        "id": "Bcp2K7VRBJzE"
      },
      "outputs": [],
      "source": []
    },
    {
      "cell_type": "code",
      "execution_count": null,
      "metadata": {
        "id": "husIBwpfBJv_"
      },
      "outputs": [],
      "source": [
        "# Model Selection"
      ]
    },
    {
      "cell_type": "code",
      "execution_count": null,
      "metadata": {
        "id": "IqN1_22J4B0d"
      },
      "outputs": [],
      "source": [
        "from tensorflow.keras.metrics import mean_squared_error"
      ]
    },
    {
      "cell_type": "code",
      "execution_count": null,
      "metadata": {
        "id": "Q0HexnIe4Ifa"
      },
      "outputs": [],
      "source": [
        "def model_score(alpha = 0.5, beta = 0.5, gamma = 0.5, use_extrapolation = 0):\n",
        "  errors = []\n",
        "  val_int_error = mean_squared_error(y_int_test, y_int_pred)\n",
        "  sparsity = None\n",
        "  errors.append(val_int_error)\n",
        "  errors.append(sparsity)\n",
        "\n",
        "  if use_extrapolation == 1:\n",
        "    beta = 0.0\n",
        "    val_ext_error = mean_squared_error(y_ext_test, y_ext_pred)\n",
        "    errors.append(val_ext_error)\n",
        "\n",
        "  return errors"
      ]
    },
    {
      "cell_type": "code",
      "execution_count": null,
      "metadata": {
        "id": "3VZ7acla4IcH"
      },
      "outputs": [],
      "source": []
    },
    {
      "cell_type": "code",
      "execution_count": null,
      "metadata": {
        "id": "5fKlxCnc4IZZ"
      },
      "outputs": [],
      "source": []
    },
    {
      "cell_type": "code",
      "execution_count": null,
      "metadata": {
        "id": "0tGTRpW63gvW"
      },
      "outputs": [],
      "source": [
        "function ConnectButton(){\n",
        "  console.log(\"Connect pushed\");\n",
        "  document.querySelector(\"#top-toolbar > colab-connectbutton\").shadowRoot.querySelector(\"#connect\").click()\n",
        "}\n",
        "setInterval(ConnectButton,60000);"
      ]
    },
    {
      "cell_type": "code",
      "execution_count": null,
      "metadata": {
        "id": "JmZGGpsK2xDv"
      },
      "outputs": [],
      "source": []
    },
    {
      "cell_type": "code",
      "execution_count": null,
      "metadata": {
        "id": "W089c0ik2xA_"
      },
      "outputs": [],
      "source": []
    },
    {
      "cell_type": "code",
      "execution_count": null,
      "metadata": {
        "id": "DkrvlDfq2w-K"
      },
      "outputs": [],
      "source": []
    },
    {
      "cell_type": "code",
      "execution_count": null,
      "metadata": {
        "id": "uKXrJrbn2w7e"
      },
      "outputs": [],
      "source": []
    }
  ],
  "metadata": {
    "colab": {
      "gpuType": "T4",
      "provenance": []
    },
    "kernelspec": {
      "display_name": "Python 3",
      "name": "python3"
    },
    "language_info": {
      "codemirror_mode": {
        "name": "ipython",
        "version": 3
      },
      "file_extension": ".py",
      "mimetype": "text/x-python",
      "name": "python",
      "nbconvert_exporter": "python",
      "pygments_lexer": "ipython3",
      "version": "3.11.3"
    }
  },
  "nbformat": 4,
  "nbformat_minor": 0
}
