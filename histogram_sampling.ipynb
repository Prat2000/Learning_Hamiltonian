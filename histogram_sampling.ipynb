{
 "cells": [
  {
   "cell_type": "code",
   "execution_count": 1,
   "id": "f56a8fb6",
   "metadata": {},
   "outputs": [
    {
     "name": "stderr",
     "output_type": "stream",
     "text": [
      "2023-07-06 03:38:26.955298: I tensorflow/core/platform/cpu_feature_guard.cc:182] This TensorFlow binary is optimized to use available CPU instructions in performance-critical operations.\n",
      "To enable the following instructions: SSE4.1 SSE4.2 AVX AVX2 AVX512F AVX512_VNNI FMA, in other operations, rebuild TensorFlow with the appropriate compiler flags.\n"
     ]
    }
   ],
   "source": [
    "import tensorflow as tf\n",
    "import matplotlib.pyplot as plt\n",
    "import numpy as np\n",
    "import pickle"
   ]
  },
  {
   "cell_type": "code",
   "execution_count": 2,
   "id": "6028820a",
   "metadata": {},
   "outputs": [
    {
     "name": "stdout",
     "output_type": "stream",
     "text": [
      "[0.5]\n",
      "0.5\n",
      "Done\n"
     ]
    }
   ],
   "source": [
    "from xy import *\n",
    "\n",
    "J = 1\n",
    "max_t = 0.5\n",
    "min_t = 0.5\n",
    "lattice_shape = (8,8) #It can be  changed to (16,16) or (32,32)\n",
    "steps = 1\n",
    "iters_per_step = 31 #to remove autocorrelation among each of the 32 lattice sites\n",
    "random_state = 50\n",
    "t_vals = np.linspace(min_t, max_t, 1)\n",
    "print(t_vals)\n",
    "\n",
    "# betas = 1 / T_vals\n",
    "lattices = []\n",
    "#Monte Carlo Simulation\n",
    "for beta in t_vals:\n",
    "        lat=[]\n",
    "        print(beta)\n",
    "        random_state=random_state+1\n",
    "        xy=XYModelMetropolisSimulation(lattice_shape=lattice_shape,\n",
    "                                       beta=1/beta,J=J,random_state=random_state)\n",
    "        for q in range(40000):\n",
    "            xy.simulate(steps,iters_per_step)\n",
    "            lat.append(xy.L+0)\n",
    "            # draw_grid(lattice_shape[0],xy.L,1/beta)\n",
    "        lattices.append(lat[30000:])  #initial 30000 rejected and last 10000 accepted\n",
    "        print('Done')"
   ]
  },
  {
   "cell_type": "code",
   "execution_count": 3,
   "id": "b21fcfbe",
   "metadata": {},
   "outputs": [
    {
     "name": "stdout",
     "output_type": "stream",
     "text": [
      "[[0.45121203 0.35517992 0.32157192 0.39625863 0.36140468 0.29493396\n",
      "  0.40073964 0.42119009]\n",
      " [0.49629827 0.26882994 0.30222129 0.2736027  0.36481113 0.26823661\n",
      "  0.39357289 0.46357644]\n",
      " [0.37654952 0.53065609 0.3134225  0.34155855 0.34994298 0.31162467\n",
      "  0.40048344 0.43282279]\n",
      " [0.26832664 0.37105517 0.50456552 0.38357158 0.41722123 0.35036717\n",
      "  0.45429806 0.51669959]\n",
      " [0.3680475  0.41672437 0.48484838 0.30142931 0.3695239  0.44281077\n",
      "  0.43448699 0.39479544]\n",
      " [0.37101712 0.53968434 0.50906656 0.30733481 0.30590429 0.32762109\n",
      "  0.3788674  0.42307294]\n",
      " [0.27357633 0.42013522 0.46682592 0.24756357 0.3865362  0.31387942\n",
      "  0.36373676 0.41602072]\n",
      " [0.51784097 0.38763864 0.31406047 0.39028053 0.32815037 0.24362903\n",
      "  0.45460284 0.53656446]]\n"
     ]
    }
   ],
   "source": [
    "n = np.random.randint(low = 0, high = 10000)\n",
    "start_lattice = lattices[0][n]\n",
    "print(start_lattice)"
   ]
  },
  {
   "cell_type": "code",
   "execution_count": 4,
   "id": "11ce64e6",
   "metadata": {},
   "outputs": [],
   "source": [
    "def cond_p_theta(theta,theta_not,temp,lambda1):\n",
    "    return np.exp(np.cos(theta - theta_not)*(lambda1/temp))"
   ]
  },
  {
   "cell_type": "code",
   "execution_count": 5,
   "id": "b4c64907",
   "metadata": {},
   "outputs": [],
   "source": [
    "def sample_cond_theta(theta1,theta2,theta3,theta4,temp,no_samples):\n",
    "    sin_sum  = np.sin(theta1) + np.sin(theta2) + np.sin(theta3) + np.sin(theta4)\n",
    "    cos_sum  = np.cos(theta1) + np.cos(theta2) + np.cos(theta3) + np.cos(theta4)\n",
    "    \n",
    "    lambda1  = np.sqrt(sin_sum**2 + cos_sum**2)\n",
    "    theta_not= np.arctan2(sin_sum,cos_sum)\n",
    "    theta_x  = np.linspace(0,2*np.pi,361)\n",
    "    pdf_x    = cond_p_theta(theta_x,theta_not,temp,lambda1)\n",
    "    pdf_x    = pdf_x/np.sum(pdf_x[:360])\n",
    "    prob_bin = pdf_x[:360]\n",
    "    samples_array = []\n",
    "    for i in range(no_samples):\n",
    "        z = np.random.multinomial(1,prob_bin)\n",
    "        k = np.argmax(z)\n",
    "        lower_limit_bin = k*(2*np.pi/360)\n",
    "        upper_limit_bin = (k+1)*(2*np.pi/360)\n",
    "        sample = np.random.uniform(lower_limit_bin,upper_limit_bin)\n",
    "        samples_array.append(sample)\n",
    "    samples_array = np.array(samples_array)\n",
    "    return samples_array"
   ]
  },
  {
   "cell_type": "code",
   "execution_count": 6,
   "id": "7c9895b8",
   "metadata": {},
   "outputs": [],
   "source": [
    "T = 0.5\n",
    "\n",
    "def generate_cond_data(pos, no_samples):\n",
    "    i,j = pos\n",
    "    #find neighbourhood theta values\n",
    "    theta1 = start_lattice[i, (j + 1) % start_lattice.shape[1]]\n",
    "    theta2 = start_lattice[i, (j - 1) % start_lattice.shape[1]]\n",
    "    theta3 = start_lattice[(i + 1) % start_lattice.shape[0], j]\n",
    "    theta4 = start_lattice[(i - 1) % start_lattice.shape[0], j]\n",
    "    theta0_samples = sample_cond_theta(theta1, theta2, theta3, theta4, T, no_samples) #samples theta0 by fixing nghbr thetas\n",
    "    theta0_samples = np.divide(theta0_samples,2*np.pi)\n",
    "    #stack conditional data in 5x1 vector\n",
    "    stacked_data = np.array([[theta0_samples[i],theta1, theta2,theta3,theta4] for i in range(len(theta0_samples))])\n",
    "    return stacked_data"
   ]
  },
  {
   "cell_type": "code",
   "execution_count": 7,
   "id": "3bc2034e",
   "metadata": {},
   "outputs": [
    {
     "name": "stdout",
     "output_type": "stream",
     "text": [
      "(64, 1000, 5)\n"
     ]
    }
   ],
   "source": [
    "dataset = []\n",
    "for i in range(start_lattice.shape[0]):\n",
    "    for j in range(start_lattice.shape[1]):\n",
    "        stack = generate_cond_data((i,j),1000)\n",
    "        dataset.append(stack)\n",
    "\n",
    "#for each (i,j) in start_lattice, generate 1000 conditional thetas\n",
    "dataset = np.array(dataset)\n",
    "print(dataset.shape)"
   ]
  },
  {
   "cell_type": "code",
   "execution_count": 8,
   "id": "020efaa8",
   "metadata": {},
   "outputs": [],
   "source": [
    "#Saving Data\n",
    "output = open('conditional_data.pkl', 'wb')\n",
    "pickle.dump(dataset, output)\n",
    "output.close()"
   ]
  },
  {
   "cell_type": "code",
   "execution_count": 16,
   "id": "e0c5f3e0",
   "metadata": {},
   "outputs": [],
   "source": [
    "# sample generation\n",
    "theta1 = 0.\n",
    "theta2 = 0.\n",
    "theta3 = 0.\n",
    "theta4 = 0.\n",
    "T = 2.05\n",
    "\n",
    "samples = sample_cond_theta(theta1,theta2,theta3,theta4,T,10000)\n"
   ]
  },
  {
   "cell_type": "code",
   "execution_count": 17,
   "id": "8f5b1f0f",
   "metadata": {},
   "outputs": [
    {
     "data": {
      "text/plain": [
       "(array([315., 309., 283., 298., 315., 291., 278., 258., 218., 212., 231.,\n",
       "        203., 189., 158., 146., 128., 144., 105., 100.,  98.,  83.,  86.,\n",
       "         77.,  61.,  50.,  38.,  41.,  35.,  18.,  22.,  23.,  14.,  16.,\n",
       "         13.,  14.,   4.,  14.,  15.,  11.,  10.,  10.,   7.,   9.,  14.,\n",
       "          5.,   5.,   7.,  10.,   2.,   8.,   8.,   8.,   9.,   5.,  10.,\n",
       "          9.,   4.,   6.,   6.,   8.,  11.,   8.,  10.,  11.,  12.,  21.,\n",
       "         14.,  20.,  15.,  18.,  22.,  32.,  32.,  42.,  51.,  66.,  66.,\n",
       "         51.,  64.,  85.,  86., 114., 112., 122., 135., 151., 167., 193.,\n",
       "        193., 190., 221., 251., 261., 270., 268., 318., 288., 287., 307.,\n",
       "        341.]),\n",
       " array([4.61830073e-05, 6.28768245e-02, 1.25707466e-01, 1.88538107e-01,\n",
       "        2.51368749e-01, 3.14199390e-01, 3.77030032e-01, 4.39860673e-01,\n",
       "        5.02691315e-01, 5.65521956e-01, 6.28352597e-01, 6.91183239e-01,\n",
       "        7.54013880e-01, 8.16844522e-01, 8.79675163e-01, 9.42505805e-01,\n",
       "        1.00533645e+00, 1.06816709e+00, 1.13099773e+00, 1.19382837e+00,\n",
       "        1.25665901e+00, 1.31948965e+00, 1.38232029e+00, 1.44515094e+00,\n",
       "        1.50798158e+00, 1.57081222e+00, 1.63364286e+00, 1.69647350e+00,\n",
       "        1.75930414e+00, 1.82213478e+00, 1.88496543e+00, 1.94779607e+00,\n",
       "        2.01062671e+00, 2.07345735e+00, 2.13628799e+00, 2.19911863e+00,\n",
       "        2.26194928e+00, 2.32477992e+00, 2.38761056e+00, 2.45044120e+00,\n",
       "        2.51327184e+00, 2.57610248e+00, 2.63893312e+00, 2.70176377e+00,\n",
       "        2.76459441e+00, 2.82742505e+00, 2.89025569e+00, 2.95308633e+00,\n",
       "        3.01591697e+00, 3.07874761e+00, 3.14157826e+00, 3.20440890e+00,\n",
       "        3.26723954e+00, 3.33007018e+00, 3.39290082e+00, 3.45573146e+00,\n",
       "        3.51856210e+00, 3.58139275e+00, 3.64422339e+00, 3.70705403e+00,\n",
       "        3.76988467e+00, 3.83271531e+00, 3.89554595e+00, 3.95837659e+00,\n",
       "        4.02120724e+00, 4.08403788e+00, 4.14686852e+00, 4.20969916e+00,\n",
       "        4.27252980e+00, 4.33536044e+00, 4.39819108e+00, 4.46102173e+00,\n",
       "        4.52385237e+00, 4.58668301e+00, 4.64951365e+00, 4.71234429e+00,\n",
       "        4.77517493e+00, 4.83800557e+00, 4.90083622e+00, 4.96366686e+00,\n",
       "        5.02649750e+00, 5.08932814e+00, 5.15215878e+00, 5.21498942e+00,\n",
       "        5.27782006e+00, 5.34065071e+00, 5.40348135e+00, 5.46631199e+00,\n",
       "        5.52914263e+00, 5.59197327e+00, 5.65480391e+00, 5.71763455e+00,\n",
       "        5.78046520e+00, 5.84329584e+00, 5.90612648e+00, 5.96895712e+00,\n",
       "        6.03178776e+00, 6.09461840e+00, 6.15744904e+00, 6.22027969e+00,\n",
       "        6.28311033e+00]),\n",
       " <BarContainer object of 100 artists>)"
      ]
     },
     "execution_count": 17,
     "metadata": {},
     "output_type": "execute_result"
    },
    {
     "data": {
      "image/png": "[encoded data removed]",
      "text/plain": [
       "<Figure size 640x480 with 1 Axes>"
      ]
     },
     "metadata": {},
     "output_type": "display_data"
    }
   ],
   "source": [
    "plt.hist(samples,bins=100)"
   ]
  },
  {
   "cell_type": "code",
   "execution_count": null,
   "id": "86bba334",
   "metadata": {},
   "outputs": [],
   "source": [
    "x_data"
   ]
  },
  {
   "cell_type": "code",
   "execution_count": null,
   "id": "ce724e8b",
   "metadata": {},
   "outputs": [],
   "source": []
  },
  {
   "cell_type": "code",
   "execution_count": null,
   "id": "19af882b",
   "metadata": {},
   "outputs": [],
   "source": []
  }
 ],
 "metadata": {
  "kernelspec": {
   "display_name": "Python 3 (ipykernel)",
   "language": "python",
   "name": "python3"
  },
  "language_info": {
   "codemirror_mode": {
    "name": "ipython",
    "version": 3
   },
   "file_extension": ".py",
   "mimetype": "text/x-python",
   "name": "python",
   "nbconvert_exporter": "python",
   "pygments_lexer": "ipython3",
   "version": "3.11.3"
  }
 },
 "nbformat": 4,
 "nbformat_minor": 5
}
